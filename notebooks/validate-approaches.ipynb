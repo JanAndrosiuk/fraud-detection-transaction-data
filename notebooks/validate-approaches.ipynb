{
 "cells": [
  {
   "cell_type": "markdown",
   "source": [
    "## Approach validation\n",
    "\n",
    "This notebook serves as collection of the results for each taken approach over 2 datasets - Vesta and Elliptic."
   ],
   "metadata": {
    "collapsed": false,
    "pycharm": {
     "name": "#%% md\n"
    }
   }
  },
  {
   "cell_type": "code",
   "execution_count": 3,
   "outputs": [
    {
     "name": "stderr",
     "output_type": "stream",
     "text": [
      "2022-07-03 11:24:52 Note: NumExpr detected 12 cores but \"NUMEXPR_MAX_THREADS\" not set, so enforcing safe limit of 8.\n",
      "2022-07-03 11:24:52 NumExpr defaulting to 8 threads.\n"
     ]
    }
   ],
   "source": [
    "from src import random_forest as rf\n",
    "from src import preprocessing_vesta as pv\n",
    "from src import graph_vesta as gv\n",
    "from src import preprocessing_elliptic as pe\n",
    "from importlib import reload"
   ],
   "metadata": {
    "collapsed": false,
    "pycharm": {
     "name": "#%%\n"
    }
   }
  },
  {
   "cell_type": "code",
   "execution_count": 56,
   "outputs": [],
   "source": [
    "import pandas as pd\n",
    "import numpy as np\n",
    "import pickle\n",
    "import random\n",
    "import sys\n",
    "from tqdm.notebook import tqdm\n",
    "import re\n",
    "import matplotlib.pyplot as plt\n",
    "import os"
   ],
   "metadata": {
    "collapsed": false,
    "pycharm": {
     "name": "#%%\n"
    }
   }
  },
  {
   "cell_type": "markdown",
   "source": [
    "## 1. Vesta, without graph features, PCA (continuous features) + label encoded categorical features\n",
    "### 1.1 Creating train set"
   ],
   "metadata": {
    "collapsed": false,
    "pycharm": {
     "name": "#%% md\n"
    }
   }
  },
  {
   "cell_type": "code",
   "execution_count": 38,
   "outputs": [],
   "source": [
    "vesta_pca = pd.read_pickle(\"../data/interim/vesta_train_pca.pkl\")\n",
    "vesta_enc = pd.read_pickle(\"../data/interim/vesta_encoded.pkl\")\n",
    "vesta_cat_vars = pd.read_pickle(\"../data/interim/categorical_features.pkl\")\n",
    "if \"isFraud\" in vesta_cat_vars:\n",
    "    vesta_cat_vars.remove(\"isFraud\")\n",
    "with open(\"../data/processed/vesta_pca_enc.pkl\", \"wb\") as handle:\n",
    "    pickle.dump(\n",
    "        np.hstack((vesta_pca, vesta_pca, vesta_enc[vesta_cat_vars])), handle, protocol=pickle.HIGHEST_PROTOCOL\n",
    "    )"
   ],
   "metadata": {
    "collapsed": false,
    "pycharm": {
     "name": "#%%\n"
    }
   }
  },
  {
   "cell_type": "markdown",
   "source": [
    "### 1.2 Running the model"
   ],
   "metadata": {
    "collapsed": false,
    "pycharm": {
     "name": "#%% md\n"
    }
   }
  },
  {
   "cell_type": "code",
   "execution_count": 12,
   "outputs": [
    {
     "data": {
      "text/plain": "0"
     },
     "execution_count": 12,
     "metadata": {},
     "output_type": "execute_result"
    }
   ],
   "source": [
    "reload(rf)\n",
    "rfv = rf.RF(n_jobs=8)\n",
    "rfv.load_data(dataset_final_pattern=\"vesta_pca_enc\")"
   ],
   "metadata": {
    "collapsed": false,
    "pycharm": {
     "name": "#%%\n"
    }
   }
  },
  {
   "cell_type": "code",
   "execution_count": 13,
   "outputs": [
    {
     "data": {
      "text/plain": "  0%|          | 0/1 [00:00<?, ?it/s]",
      "application/vnd.jupyter.widget-view+json": {
       "version_major": 2,
       "version_minor": 0,
       "model_id": "6d596e24604a4144ba4eb7a6bb803280"
      }
     },
     "metadata": {},
     "output_type": "display_data"
    },
    {
     "name": "stderr",
     "output_type": "stream",
     "text": [
      "[Parallel(n_jobs=8)]: Using backend LokyBackend with 8 concurrent workers.\n"
     ]
    },
    {
     "name": "stdout",
     "output_type": "stream",
     "text": [
      "test_accuracy 0.9524542378011683\n",
      "test_precision 0.9203643345909808\n",
      "test_recall 0.4314362400660682\n",
      "test_f1_score 0.5872885024071043\n"
     ]
    },
    {
     "name": "stderr",
     "output_type": "stream",
     "text": [
      "[Parallel(n_jobs=8)]: Done  30 out of  30 | elapsed: 14.2min finished\n"
     ]
    }
   ],
   "source": [
    "rfv_scores = {\n",
    "    \"test_accuracy\": [], \"test_precision\": [], \"test_recall\": [], \"test_f1_score\": []\n",
    "}\n",
    "random.seed(2022)\n",
    "seeds = [random.randint(0, 2**32-1) for x in range(1)]\n",
    "\n",
    "for s in tqdm(seeds):\n",
    "    curr_score = rfv.cv_base_model(\n",
    "        verbose=2, name_prefix=\"vesta_pca_enc_rf_\", print_val_scoring=False, return_scoring=True, seed=s\n",
    "    )\n",
    "    for k,v in curr_score.items():\n",
    "        # print(k, np.mean(v))\n",
    "        rfv_scores[k].append(np.mean(v))"
   ],
   "metadata": {
    "collapsed": false,
    "pycharm": {
     "name": "#%%\n"
    }
   }
  },
  {
   "cell_type": "markdown",
   "source": [
    "## 2. Approach (1) with graph features"
   ],
   "metadata": {
    "collapsed": false,
    "pycharm": {
     "name": "#%% md\n"
    }
   }
  },
  {
   "cell_type": "code",
   "execution_count": 47,
   "outputs": [
    {
     "name": "stdout",
     "output_type": "stream",
     "text": [
      "Added 14 graph features to the PCA (continuous) + Label encoded (categorical) dataset\n"
     ]
    }
   ],
   "source": [
    "with open(\"../data/processed/vesta_graph_train_0.pkl\", \"rb\") as handle:\n",
    "    vesta_graph_features = pickle.load(handle)\n",
    "all_features = list(vesta_graph_features.columns)\n",
    "graph_features = list(filter(re.compile(r\".*degree.*|.*pagerank.*|.*hits.*|.*betweenness.*|.*wcc.*|.*community.*\").match, all_features))\n",
    "vesta_graph_features = vesta_graph_features[graph_features]\n",
    "print(f\"Added {len(graph_features)} graph features to the PCA (continuous) + Label encoded (categorical) dataset\")\n",
    "with open(\"../data/processed/vesta_pca_enc.pkl\", \"rb\") as handle:\n",
    "    vesta_pca_enc = pickle.load(handle)\n",
    "vesta_pca_enc_graph = pd.concat((pd.DataFrame(vesta_pca_enc), vesta_graph_features), axis=1)\n",
    "del vesta_graph_features, vesta_pca_enc\n",
    "with open(\"../data/processed/vesta_pca_enc_graph.pkl\", \"wb\") as handle:\n",
    "    pickle.dump(vesta_pca_enc_graph, handle, protocol=pickle.HIGHEST_PROTOCOL)"
   ],
   "metadata": {
    "collapsed": false,
    "pycharm": {
     "name": "#%%\n"
    }
   }
  },
  {
   "cell_type": "markdown",
   "source": [
    "### 2.2 Running the model"
   ],
   "metadata": {
    "collapsed": false,
    "pycharm": {
     "name": "#%% md\n"
    }
   }
  },
  {
   "cell_type": "code",
   "execution_count": 49,
   "outputs": [
    {
     "data": {
      "text/plain": "0"
     },
     "execution_count": 49,
     "metadata": {},
     "output_type": "execute_result"
    }
   ],
   "source": [
    "reload(rf)\n",
    "rfv2 = rf.RF(n_jobs=10)\n",
    "rfv2.load_data(dataset_final_pattern=\"vesta_pca_enc_graph\")"
   ],
   "metadata": {
    "collapsed": false,
    "pycharm": {
     "name": "#%%\n"
    }
   }
  },
  {
   "cell_type": "code",
   "execution_count": 51,
   "outputs": [
    {
     "data": {
      "text/plain": "  0%|          | 0/1 [00:00<?, ?it/s]",
      "application/vnd.jupyter.widget-view+json": {
       "version_major": 2,
       "version_minor": 0,
       "model_id": "c6f32fb615be447b863c27dc693143dc"
      }
     },
     "metadata": {},
     "output_type": "display_data"
    },
    {
     "name": "stderr",
     "output_type": "stream",
     "text": [
      "[Parallel(n_jobs=10)]: Using backend LokyBackend with 10 concurrent workers.\n",
      "[Parallel(n_jobs=10)]: Done  27 out of  30 | elapsed: 13.8min remaining:  1.5min\n"
     ]
    },
    {
     "name": "stdout",
     "output_type": "stream",
     "text": [
      "test_accuracy 0.9527685427374599\n",
      "test_precision 0.92279040592743\n",
      "test_recall 0.43447005318578363\n",
      "test_f1_score 0.5906088175598806\n"
     ]
    },
    {
     "name": "stderr",
     "output_type": "stream",
     "text": [
      "[Parallel(n_jobs=10)]: Done  30 out of  30 | elapsed: 13.9min finished\n"
     ]
    }
   ],
   "source": [
    "rfv2_scores = {\n",
    "    \"test_accuracy\": [], \"test_precision\": [], \"test_recall\": [], \"test_f1_score\": []\n",
    "}\n",
    "random.seed(2022)\n",
    "seeds = [random.randint(0, 2**32-1) for x in range(1)]\n",
    "\n",
    "for s in tqdm(seeds):\n",
    "    curr_score = rfv2.cv_base_model(\n",
    "        verbose=2, name_prefix=\"vesta_pca_enc_graph_rf_\", print_val_scoring=False, return_scoring=True, seed=s\n",
    "    )\n",
    "    for k,v in curr_score.items():\n",
    "        print(k, np.mean(v))\n",
    "        rfv2_scores[k].append(np.mean(v))"
   ],
   "metadata": {
    "collapsed": false,
    "pycharm": {
     "name": "#%%\n"
    }
   }
  },
  {
   "cell_type": "markdown",
   "source": [
    "## 3. Approach (2) with monopartite graph projection\n",
    "### 3.1 Appending monopartite graph features"
   ],
   "metadata": {
    "collapsed": false,
    "pycharm": {
     "name": "#%% md\n"
    }
   }
  },
  {
   "cell_type": "code",
   "execution_count": 57,
   "outputs": [
    {
     "name": "stdout",
     "output_type": "stream",
     "text": [
      "Added 7 graph features to the PCA (continuous) + Label encoded (categorical) dataset\n"
     ]
    }
   ],
   "source": [
    "with open(\"../data/processed/mono_vesta_graph_train_0.pkl\", \"rb\") as handle:\n",
    "    vesta_graph_features_mono = pickle.load(handle)\n",
    "all_features = list(vesta_graph_features_mono.columns)\n",
    "graph_features = list(filter(re.compile(r\".*degree.*|.*pagerank.*|.*hits.*|.*betweenness.*|.*wcc.*|.*community.*\").match, all_features))\n",
    "vesta_graph_features_mono = vesta_graph_features_mono[graph_features]\n",
    "print(f\"Added {len(graph_features)} graph features to the PCA (continuous) + Label encoded (categorical) dataset\")\n",
    "with open(\"../data/processed/vesta_pca_enc.pkl\", \"rb\") as handle:\n",
    "    vesta_pca_enc = pickle.load(handle)\n",
    "vesta_pca_enc_graph_mono = pd.concat((pd.DataFrame(vesta_pca_enc), vesta_graph_features_mono), axis=1)\n",
    "del vesta_graph_features_mono, vesta_pca_enc\n",
    "with open(\"../data/processed/vesta_pca_enc_graph_mono.pkl\", \"wb\") as handle:\n",
    "    pickle.dump(vesta_pca_enc_graph_mono, handle, protocol=pickle.HIGHEST_PROTOCOL)"
   ],
   "metadata": {
    "collapsed": false,
    "pycharm": {
     "name": "#%%\n"
    }
   }
  },
  {
   "cell_type": "markdown",
   "source": [
    "### 3.2 Running the model"
   ],
   "metadata": {
    "collapsed": false,
    "pycharm": {
     "name": "#%% md\n"
    }
   }
  },
  {
   "cell_type": "code",
   "execution_count": 60,
   "outputs": [
    {
     "data": {
      "text/plain": "0"
     },
     "execution_count": 60,
     "metadata": {},
     "output_type": "execute_result"
    }
   ],
   "source": [
    "reload(rf)\n",
    "rfv3 = rf.RF(n_jobs=10)\n",
    "rfv3.load_data(dataset_final_pattern=\"vesta_pca_enc_graph_mono\")"
   ],
   "metadata": {
    "collapsed": false,
    "pycharm": {
     "name": "#%%\n"
    }
   }
  },
  {
   "cell_type": "code",
   "execution_count": 61,
   "outputs": [
    {
     "data": {
      "text/plain": "  0%|          | 0/1 [00:00<?, ?it/s]",
      "application/vnd.jupyter.widget-view+json": {
       "version_major": 2,
       "version_minor": 0,
       "model_id": "67114635a3a7446e8446451c02c8d023"
      }
     },
     "metadata": {},
     "output_type": "display_data"
    },
    {
     "name": "stderr",
     "output_type": "stream",
     "text": [
      "[Parallel(n_jobs=10)]: Using backend LokyBackend with 10 concurrent workers.\n",
      "[Parallel(n_jobs=10)]: Done  27 out of  30 | elapsed: 13.4min remaining:  1.5min\n"
     ]
    },
    {
     "name": "stdout",
     "output_type": "stream",
     "text": [
      "test_accuracy 0.9527176927343317\n",
      "test_precision 0.9216404483378429\n",
      "test_recall 0.43435174684108513\n",
      "test_f1_score 0.5902678847772428\n"
     ]
    },
    {
     "name": "stderr",
     "output_type": "stream",
     "text": [
      "[Parallel(n_jobs=10)]: Done  30 out of  30 | elapsed: 13.4min finished\n"
     ]
    }
   ],
   "source": [
    "rfv3_scores = {\n",
    "    \"test_accuracy\": [], \"test_precision\": [], \"test_recall\": [], \"test_f1_score\": []\n",
    "}\n",
    "random.seed(2022)\n",
    "seeds = [random.randint(0, 2**32-1) for x in range(1)]\n",
    "\n",
    "for s in tqdm(seeds):\n",
    "    curr_score = rfv3.cv_base_model(\n",
    "        verbose=2, name_prefix=\"vesta_pca_enc_graph_mono_rf_\", print_val_scoring=False, return_scoring=True, seed=s\n",
    "    )\n",
    "    for k,v in curr_score.items():\n",
    "        print(k, np.mean(v))\n",
    "        rfv3_scores[k].append(np.mean(v))"
   ],
   "metadata": {
    "collapsed": false,
    "pycharm": {
     "name": "#%%\n"
    }
   }
  },
  {
   "cell_type": "markdown",
   "source": [
    "## 4. Elliptic dataset\n",
    "### 4.1 Elliptic baseline"
   ],
   "metadata": {
    "collapsed": false,
    "pycharm": {
     "name": "#%% md\n"
    }
   }
  },
  {
   "cell_type": "code",
   "execution_count": 62,
   "outputs": [
    {
     "data": {
      "text/plain": "0"
     },
     "execution_count": 62,
     "metadata": {},
     "output_type": "execute_result"
    }
   ],
   "source": [
    "reload(rf)\n",
    "rfe1 = rf.RF(\n",
    "    y_train_path=\"../data/processed/elliptic_train_target.pkl\", target=\"target\", n_jobs=10\n",
    ")\n",
    "rfe1.load_data(dataset_final_pattern=\"elliptic_train_pca\")"
   ],
   "metadata": {
    "collapsed": false,
    "pycharm": {
     "name": "#%%\n"
    }
   }
  },
  {
   "cell_type": "code",
   "execution_count": 65,
   "outputs": [
    {
     "name": "stderr",
     "output_type": "stream",
     "text": [
      "[Parallel(n_jobs=10)]: Using backend LokyBackend with 10 concurrent workers.\n",
      "[Parallel(n_jobs=10)]: Done  27 out of  30 | elapsed: 18.8min remaining:  2.1min\n"
     ]
    },
    {
     "name": "stdout",
     "output_type": "stream",
     "text": [
      "\n",
      "                    Mean validation results:\n",
      "                    Accuracy: 0.98\n",
      "                    Precision: 0.9054\n",
      "                    Recall: 0.4753\n",
      "                    F1 score: 0.6232\n",
      "                \n"
     ]
    },
    {
     "name": "stderr",
     "output_type": "stream",
     "text": [
      "[Parallel(n_jobs=10)]: Done  30 out of  30 | elapsed: 18.9min finished\n"
     ]
    }
   ],
   "source": [
    "rfe1_scores = {\n",
    "    \"test_accuracy\": [], \"test_precision\": [], \"test_recall\": [], \"test_f1_score\": []\n",
    "}\n",
    "random.seed(2022)\n",
    "seeds = [random.randint(0, 2**32-1) for x in range(1)]\n",
    "\n",
    "for s in tqdm(seeds):\n",
    "    curr_score = rfe1.cv_base_model(\n",
    "        verbose=2, save_model=True, name_prefix=\"elliptic_baseline_rf_\", print_val_scoring=True, return_scoring=True\n",
    "    )\n",
    "    for k,v in curr_score.items():\n",
    "        print(k, np.mean(v))\n",
    "        rfe1_scores[k].append(np.mean(v))"
   ],
   "metadata": {
    "collapsed": false,
    "pycharm": {
     "name": "#%%\n"
    }
   }
  },
  {
   "cell_type": "markdown",
   "source": [
    "## 5. Elliptic PCA + graph features\n",
    "### 5.1 Appending graph features to PCA result"
   ],
   "metadata": {
    "collapsed": false,
    "pycharm": {
     "name": "#%% md\n"
    }
   }
  },
  {
   "cell_type": "code",
   "execution_count": 16,
   "outputs": [
    {
     "data": {
      "text/plain": "<module 'src.preprocessing_elliptic' from 'C:\\\\Users\\\\user\\\\Documents\\\\Projects\\\\master-thesis\\\\src\\\\preprocessing_elliptic.py'>"
     },
     "execution_count": 16,
     "metadata": {},
     "output_type": "execute_result"
    }
   ],
   "source": [
    "# reload(pe)"
   ],
   "metadata": {
    "collapsed": false,
    "pycharm": {
     "name": "#%%\n"
    }
   }
  },
  {
   "cell_type": "code",
   "execution_count": 59,
   "outputs": [
    {
     "name": "stdout",
     "output_type": "stream",
     "text": [
      "Added 14 graph features to the PCA (continuous) + Label encoded (categorical) dataset\n"
     ]
    }
   ],
   "source": [
    "elliptic_train_pca = pd.read_pickle(\"../data/processed/elliptic_train_pca.pkl\")\n",
    "elliptic_metrics = pd.read_pickle(\"../data/processed/elliptic_metrics_df.pkl\")\n",
    "all_features = list(elliptic_metrics.columns)\n",
    "graph_features = list(filter(re.compile(r\".*degree.*|.*pagerank.*|.*hits.*|.*betweenness.*|.*wcc.*|.*community.*\").match, all_features))\n",
    "elliptic_metrics = elliptic_metrics[graph_features]\n",
    "print(f\"Added {len(graph_features)} graph features to the PCA (continuous) + Label encoded (categorical) dataset\")\n",
    "elliptic_pca_graph = pd.concat((pd.DataFrame(elliptic_train_pca), elliptic_metrics), axis=1)\n",
    "del elliptic_train_pca, elliptic_metrics\n",
    "with open(\"../data/processed/elliptic_pca_graph.pkl\", \"wb\") as handle:\n",
    "    pickle.dump(elliptic_pca_graph, handle, protocol=pickle.HIGHEST_PROTOCOL)"
   ],
   "metadata": {
    "collapsed": false,
    "pycharm": {
     "name": "#%%\n"
    }
   }
  },
  {
   "cell_type": "markdown",
   "source": [
    "### 5.2 Running the model"
   ],
   "metadata": {
    "collapsed": false,
    "pycharm": {
     "name": "#%% md\n"
    }
   }
  },
  {
   "cell_type": "code",
   "execution_count": 5,
   "outputs": [
    {
     "data": {
      "text/plain": "0"
     },
     "execution_count": 5,
     "metadata": {},
     "output_type": "execute_result"
    }
   ],
   "source": [
    "reload(rf)\n",
    "rfe2 = rf.RF(\n",
    "    y_train_path=\"../data/processed/elliptic_train_target.pkl\", target=\"target\", n_jobs=10\n",
    ")\n",
    "rfe2.load_data(dataset_final_pattern=\"elliptic_pca_graph\")"
   ],
   "metadata": {
    "collapsed": false,
    "pycharm": {
     "name": "#%%\n"
    }
   }
  },
  {
   "cell_type": "code",
   "execution_count": 6,
   "outputs": [
    {
     "data": {
      "text/plain": "  0%|          | 0/1 [00:00<?, ?it/s]",
      "application/vnd.jupyter.widget-view+json": {
       "version_major": 2,
       "version_minor": 0,
       "model_id": "3ac466f94b8f471f8147b59f1e012396"
      }
     },
     "metadata": {},
     "output_type": "display_data"
    },
    {
     "name": "stderr",
     "output_type": "stream",
     "text": [
      "[Parallel(n_jobs=10)]: Using backend LokyBackend with 10 concurrent workers.\n",
      "[Parallel(n_jobs=10)]: Done  27 out of  30 | elapsed: 17.8min remaining:  2.0min\n"
     ]
    },
    {
     "name": "stdout",
     "output_type": "stream",
     "text": [
      "test_accuracy 0.9817797804749475\n",
      "test_precision 0.9202436983945252\n",
      "test_recall 0.5209345653517433\n",
      "test_f1_score 0.6651294392179661\n"
     ]
    },
    {
     "name": "stderr",
     "output_type": "stream",
     "text": [
      "[Parallel(n_jobs=10)]: Done  30 out of  30 | elapsed: 17.8min finished\n"
     ]
    }
   ],
   "source": [
    "rfe2_scores = {\n",
    "    \"test_accuracy\": [], \"test_precision\": [], \"test_recall\": [], \"test_f1_score\": []\n",
    "}\n",
    "random.seed(2022)\n",
    "seeds = [random.randint(0, 2**32-1) for x in range(1)]\n",
    "\n",
    "for s in tqdm(seeds):\n",
    "    curr_score = rfe2.cv_base_model(\n",
    "        verbose=2, save_model=True, name_prefix=\"elliptic_graph_rf_\", print_val_scoring=False, return_scoring=True\n",
    "    )\n",
    "    for k,v in curr_score.items():\n",
    "        print(k, np.mean(v))\n",
    "        rfe2_scores[k].append(np.mean(v))"
   ],
   "metadata": {
    "collapsed": false,
    "pycharm": {
     "name": "#%%\n"
    }
   }
  },
  {
   "cell_type": "markdown",
   "source": [
    "### 5.3 Check feature importance scores"
   ],
   "metadata": {
    "collapsed": false,
    "pycharm": {
     "name": "#%% md\n"
    }
   }
  },
  {
   "cell_type": "code",
   "execution_count": 9,
   "outputs": [],
   "source": [
    "with open(\"../models/elliptic_graph_rf_0.pkl\", \"rb\") as h:\n",
    "    rfe2_model = pickle.load(h)"
   ],
   "metadata": {
    "collapsed": false,
    "pycharm": {
     "name": "#%%\n"
    }
   }
  },
  {
   "cell_type": "code",
   "execution_count": 12,
   "outputs": [
    {
     "name": "stderr",
     "output_type": "stream",
     "text": [
      "C:\\Users\\user\\anaconda3\\envs\\tf_gpu\\lib\\site-packages\\sklearn\\utils\\validation.py:1858: FutureWarning: Feature names only support names that are all strings. Got feature names with dtypes: ['int', 'str']. An error will be raised in 1.2.\n",
      "  warnings.warn(\n"
     ]
    },
    {
     "data": {
      "text/plain": "RandomForestClassifier(class_weight='balanced_subsample', n_jobs=10,\n                       random_state=2022)",
      "text/html": "<style>#sk-container-id-1 {color: black;background-color: white;}#sk-container-id-1 pre{padding: 0;}#sk-container-id-1 div.sk-toggleable {background-color: white;}#sk-container-id-1 label.sk-toggleable__label {cursor: pointer;display: block;width: 100%;margin-bottom: 0;padding: 0.3em;box-sizing: border-box;text-align: center;}#sk-container-id-1 label.sk-toggleable__label-arrow:before {content: \"▸\";float: left;margin-right: 0.25em;color: #696969;}#sk-container-id-1 label.sk-toggleable__label-arrow:hover:before {color: black;}#sk-container-id-1 div.sk-estimator:hover label.sk-toggleable__label-arrow:before {color: black;}#sk-container-id-1 div.sk-toggleable__content {max-height: 0;max-width: 0;overflow: hidden;text-align: left;background-color: #f0f8ff;}#sk-container-id-1 div.sk-toggleable__content pre {margin: 0.2em;color: black;border-radius: 0.25em;background-color: #f0f8ff;}#sk-container-id-1 input.sk-toggleable__control:checked~div.sk-toggleable__content {max-height: 200px;max-width: 100%;overflow: auto;}#sk-container-id-1 input.sk-toggleable__control:checked~label.sk-toggleable__label-arrow:before {content: \"▾\";}#sk-container-id-1 div.sk-estimator input.sk-toggleable__control:checked~label.sk-toggleable__label {background-color: #d4ebff;}#sk-container-id-1 div.sk-label input.sk-toggleable__control:checked~label.sk-toggleable__label {background-color: #d4ebff;}#sk-container-id-1 input.sk-hidden--visually {border: 0;clip: rect(1px 1px 1px 1px);clip: rect(1px, 1px, 1px, 1px);height: 1px;margin: -1px;overflow: hidden;padding: 0;position: absolute;width: 1px;}#sk-container-id-1 div.sk-estimator {font-family: monospace;background-color: #f0f8ff;border: 1px dotted black;border-radius: 0.25em;box-sizing: border-box;margin-bottom: 0.5em;}#sk-container-id-1 div.sk-estimator:hover {background-color: #d4ebff;}#sk-container-id-1 div.sk-parallel-item::after {content: \"\";width: 100%;border-bottom: 1px solid gray;flex-grow: 1;}#sk-container-id-1 div.sk-label:hover label.sk-toggleable__label {background-color: #d4ebff;}#sk-container-id-1 div.sk-serial::before {content: \"\";position: absolute;border-left: 1px solid gray;box-sizing: border-box;top: 0;bottom: 0;left: 50%;z-index: 0;}#sk-container-id-1 div.sk-serial {display: flex;flex-direction: column;align-items: center;background-color: white;padding-right: 0.2em;padding-left: 0.2em;position: relative;}#sk-container-id-1 div.sk-item {position: relative;z-index: 1;}#sk-container-id-1 div.sk-parallel {display: flex;align-items: stretch;justify-content: center;background-color: white;position: relative;}#sk-container-id-1 div.sk-item::before, #sk-container-id-1 div.sk-parallel-item::before {content: \"\";position: absolute;border-left: 1px solid gray;box-sizing: border-box;top: 0;bottom: 0;left: 50%;z-index: -1;}#sk-container-id-1 div.sk-parallel-item {display: flex;flex-direction: column;z-index: 1;position: relative;background-color: white;}#sk-container-id-1 div.sk-parallel-item:first-child::after {align-self: flex-end;width: 50%;}#sk-container-id-1 div.sk-parallel-item:last-child::after {align-self: flex-start;width: 50%;}#sk-container-id-1 div.sk-parallel-item:only-child::after {width: 0;}#sk-container-id-1 div.sk-dashed-wrapped {border: 1px dashed gray;margin: 0 0.4em 0.5em 0.4em;box-sizing: border-box;padding-bottom: 0.4em;background-color: white;}#sk-container-id-1 div.sk-label label {font-family: monospace;font-weight: bold;display: inline-block;line-height: 1.2em;}#sk-container-id-1 div.sk-label-container {text-align: center;}#sk-container-id-1 div.sk-container {/* jupyter's `normalize.less` sets `[hidden] { display: none; }` but bootstrap.min.css set `[hidden] { display: none !important; }` so we also need the `!important` here to be able to override the default hidden behavior on the sphinx rendered scikit-learn.org. See: https://github.com/scikit-learn/scikit-learn/issues/21755 */display: inline-block !important;position: relative;}#sk-container-id-1 div.sk-text-repr-fallback {display: none;}</style><div id=\"sk-container-id-1\" class=\"sk-top-container\"><div class=\"sk-text-repr-fallback\"><pre>RandomForestClassifier(class_weight=&#x27;balanced_subsample&#x27;, n_jobs=10,\n                       random_state=2022)</pre><b>In a Jupyter environment, please rerun this cell to show the HTML representation or trust the notebook. <br />On GitHub, the HTML representation is unable to render, please try loading this page with nbviewer.org.</b></div><div class=\"sk-container\" hidden><div class=\"sk-item\"><div class=\"sk-estimator sk-toggleable\"><input class=\"sk-toggleable__control sk-hidden--visually\" id=\"sk-estimator-id-1\" type=\"checkbox\" checked><label for=\"sk-estimator-id-1\" class=\"sk-toggleable__label sk-toggleable__label-arrow\">RandomForestClassifier</label><div class=\"sk-toggleable__content\"><pre>RandomForestClassifier(class_weight=&#x27;balanced_subsample&#x27;, n_jobs=10,\n                       random_state=2022)</pre></div></div></div></div></div>"
     },
     "execution_count": 12,
     "metadata": {},
     "output_type": "execute_result"
    }
   ],
   "source": [
    "rfe2_model.fit(rfe2.X_train_list[0], rfe2.y_train)"
   ],
   "metadata": {
    "collapsed": false,
    "pycharm": {
     "name": "#%%\n"
    }
   }
  },
  {
   "cell_type": "code",
   "execution_count": 59,
   "outputs": [
    {
     "data": {
      "text/plain": "<Figure size 432x288 with 1 Axes>",
      "image/png": "[encoded data removed]"
     },
     "metadata": {
      "needs_background": "light"
     },
     "output_type": "display_data"
    }
   ],
   "source": [
    "# This code is also included as a method in the RF class\n",
    "\n",
    "LIMIT=30\n",
    "font = {\"size\": 7}\n",
    "all_cols = np.array(rfe2.X_train_list[0].columns)\n",
    "importances = rfe2_model.feature_importances_\n",
    "indices = np.argsort(importances)[::-1][:LIMIT]\n",
    "std = np.std([tree.feature_importances_ for tree in rfe2_model.estimators_], axis=0)\n",
    "plt.bar(\n",
    "    range(all_cols[:LIMIT].shape[0]), importances[indices[:LIMIT]], yerr=std[indices[:LIMIT]],\n",
    "    align='center', color=\"#009e73\"\n",
    ")\n",
    "ax=plt.gca()\n",
    "plt.xticks(\n",
    "    range(all_cols[:LIMIT].shape[0]), all_cols[indices[:LIMIT]],\n",
    "    rotation=90, **font\n",
    ")\n",
    "plt.ylabel(\"Accumulated impurity decrease\", **font)\n",
    "plt.tight_layout()\n",
    "if not os.path.exists(\"../reports/figures/\"):\n",
    "    os.mkdir(\"../reports/figures/\")\n",
    "plt.savefig(f\"../reports/figures/elliptic_graph_feat_imp.pdf\", bbox_inches=\"tight\")\n",
    "plt.show()"
   ],
   "metadata": {
    "collapsed": false,
    "pycharm": {
     "name": "#%%\n"
    }
   }
  }
 ],
 "metadata": {
  "kernelspec": {
   "display_name": "Python 3",
   "language": "python",
   "name": "python3"
  },
  "language_info": {
   "codemirror_mode": {
    "name": "ipython",
    "version": 2
   },
   "file_extension": ".py",
   "mimetype": "text/x-python",
   "name": "python",
   "nbconvert_exporter": "python",
   "pygments_lexer": "ipython2",
   "version": "2.7.6"
  }
 },
 "nbformat": 4,
 "nbformat_minor": 0
}