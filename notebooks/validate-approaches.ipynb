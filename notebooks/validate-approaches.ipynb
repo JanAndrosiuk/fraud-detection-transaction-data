{
 "cells": [
  {
   "cell_type": "code",
   "execution_count": 1,
   "outputs": [
    {
     "name": "stderr",
     "output_type": "stream",
     "text": [
      "2022-07-02 23:52:34 Note: NumExpr detected 12 cores but \"NUMEXPR_MAX_THREADS\" not set, so enforcing safe limit of 8.\n",
      "2022-07-02 23:52:34 NumExpr defaulting to 8 threads.\n"
     ]
    }
   ],
   "source": [
    "from src import random_forest_vesta as rf\n",
    "from src import preprocessing_vesta as pv\n",
    "from src import graph_vesta as gv\n",
    "from src import preprocessing_elliptic as pe\n",
    "from importlib import reload"
   ],
   "metadata": {
    "collapsed": false,
    "pycharm": {
     "name": "#%%\n"
    }
   }
  },
  {
   "cell_type": "code",
   "execution_count": 2,
   "outputs": [],
   "source": [
    "import pandas as pd\n",
    "import numpy as np\n",
    "import pickle\n",
    "import random\n",
    "import sys\n",
    "from tqdm.notebook import tqdm\n",
    "import re"
   ],
   "metadata": {
    "collapsed": false,
    "pycharm": {
     "name": "#%%\n"
    }
   }
  },
  {
   "cell_type": "markdown",
   "source": [
    "## 1. Vesta, without graph features, PCA (continuous features) + label encoded categorical features\n",
    "### 1.1 Creating train set"
   ],
   "metadata": {
    "collapsed": false,
    "pycharm": {
     "name": "#%% md\n"
    }
   }
  },
  {
   "cell_type": "code",
   "execution_count": 38,
   "outputs": [],
   "source": [
    "vesta_pca = pd.read_pickle(\"../data/interim/vesta_train_pca.pkl\")\n",
    "vesta_enc = pd.read_pickle(\"../data/interim/vesta_encoded.pkl\")\n",
    "vesta_cat_vars = pd.read_pickle(\"../data/interim/categorical_features.pkl\")\n",
    "if \"isFraud\" in vesta_cat_vars:\n",
    "    vesta_cat_vars.remove(\"isFraud\")\n",
    "with open(\"../data/processed/vesta_pca_enc.pkl\", \"wb\") as handle:\n",
    "    pickle.dump(\n",
    "        np.hstack((vesta_pca, vesta_pca, vesta_enc[vesta_cat_vars])), handle, protocol=pickle.HIGHEST_PROTOCOL\n",
    "    )"
   ],
   "metadata": {
    "collapsed": false,
    "pycharm": {
     "name": "#%%\n"
    }
   }
  },
  {
   "cell_type": "markdown",
   "source": [
    "### 1.2 Running the model"
   ],
   "metadata": {
    "collapsed": false,
    "pycharm": {
     "name": "#%% md\n"
    }
   }
  },
  {
   "cell_type": "code",
   "execution_count": 12,
   "outputs": [
    {
     "data": {
      "text/plain": "0"
     },
     "execution_count": 12,
     "metadata": {},
     "output_type": "execute_result"
    }
   ],
   "source": [
    "reload(rf)\n",
    "rfv = rf.RF(n_jobs=8)\n",
    "rfv.load_data(dataset_final_pattern=\"vesta_pca_enc\")"
   ],
   "metadata": {
    "collapsed": false,
    "pycharm": {
     "name": "#%%\n"
    }
   }
  },
  {
   "cell_type": "code",
   "execution_count": 13,
   "outputs": [
    {
     "data": {
      "text/plain": "  0%|          | 0/1 [00:00<?, ?it/s]",
      "application/vnd.jupyter.widget-view+json": {
       "version_major": 2,
       "version_minor": 0,
       "model_id": "6d596e24604a4144ba4eb7a6bb803280"
      }
     },
     "metadata": {},
     "output_type": "display_data"
    },
    {
     "name": "stderr",
     "output_type": "stream",
     "text": [
      "[Parallel(n_jobs=8)]: Using backend LokyBackend with 8 concurrent workers.\n"
     ]
    },
    {
     "name": "stdout",
     "output_type": "stream",
     "text": [
      "test_accuracy 0.9524542378011683\n",
      "test_precision 0.9203643345909808\n",
      "test_recall 0.4314362400660682\n",
      "test_f1_score 0.5872885024071043\n"
     ]
    },
    {
     "name": "stderr",
     "output_type": "stream",
     "text": [
      "[Parallel(n_jobs=8)]: Done  30 out of  30 | elapsed: 14.2min finished\n"
     ]
    }
   ],
   "source": [
    "rfv_scores = {\n",
    "    \"test_accuracy\": [], \"test_precision\": [], \"test_recall\": [], \"test_f1_score\": []\n",
    "}\n",
    "random.seed(2022)\n",
    "seeds = [random.randint(0, 2**32-1) for x in range(1)]\n",
    "\n",
    "for s in tqdm(seeds):\n",
    "    curr_score = rfv.cv_base_model(\n",
    "        verbose=2, name_prefix=\"vesta_pca_enc_rf_\", print_val_scoring=False, return_scoring=True, seed=s\n",
    "    )\n",
    "    for k,v in curr_score.items():\n",
    "        # print(k, np.mean(v))\n",
    "        rfv_scores[k].append(np.mean(v))"
   ],
   "metadata": {
    "collapsed": false,
    "pycharm": {
     "name": "#%%\n"
    }
   }
  },
  {
   "cell_type": "markdown",
   "source": [
    "## 2. Approach (1) with graph features"
   ],
   "metadata": {
    "collapsed": false,
    "pycharm": {
     "name": "#%% md\n"
    }
   }
  },
  {
   "cell_type": "code",
   "execution_count": 47,
   "outputs": [
    {
     "name": "stdout",
     "output_type": "stream",
     "text": [
      "Added 14 graph features to the PCA (continuous) + Label encoded (categorical) dataset\n"
     ]
    }
   ],
   "source": [
    "with open(\"../data/processed/vesta_graph_train_0.pkl\", \"rb\") as handle:\n",
    "    vesta_graph_features = pickle.load(handle)\n",
    "all_features = list(vesta_graph_features.columns)\n",
    "graph_features = list(filter(re.compile(r\".*degree.*|.*pagerank.*|.*hits.*|.*betweenness.*|.*wcc.*|.*community.*\").match, all_features))\n",
    "vesta_graph_features = vesta_graph_features[graph_features]\n",
    "print(f\"Added {len(graph_features)} graph features to the PCA (continuous) + Label encoded (categorical) dataset\")\n",
    "with open(\"../data/processed/vesta_pca_enc.pkl\", \"rb\") as handle:\n",
    "    vesta_pca_enc = pickle.load(handle)\n",
    "vesta_pca_enc_graph = pd.concat((pd.DataFrame(vesta_pca_enc), vesta_graph_features), axis=1)\n",
    "del vesta_graph_features, vesta_pca_enc\n",
    "with open(\"../data/processed/vesta_pca_enc_graph.pkl\", \"wb\") as handle:\n",
    "    pickle.dump(vesta_pca_enc_graph, handle, protocol=pickle.HIGHEST_PROTOCOL)"
   ],
   "metadata": {
    "collapsed": false,
    "pycharm": {
     "name": "#%%\n"
    }
   }
  },
  {
   "cell_type": "markdown",
   "source": [
    "### 2.2 Running the model"
   ],
   "metadata": {
    "collapsed": false,
    "pycharm": {
     "name": "#%% md\n"
    }
   }
  },
  {
   "cell_type": "code",
   "execution_count": 49,
   "outputs": [
    {
     "data": {
      "text/plain": "0"
     },
     "execution_count": 49,
     "metadata": {},
     "output_type": "execute_result"
    }
   ],
   "source": [
    "reload(rf)\n",
    "rfv2 = rf.RF(n_jobs=10)\n",
    "rfv2.load_data(dataset_final_pattern=\"vesta_pca_enc_graph\")"
   ],
   "metadata": {
    "collapsed": false,
    "pycharm": {
     "name": "#%%\n"
    }
   }
  },
  {
   "cell_type": "code",
   "execution_count": 51,
   "outputs": [
    {
     "data": {
      "text/plain": "  0%|          | 0/1 [00:00<?, ?it/s]",
      "application/vnd.jupyter.widget-view+json": {
       "version_major": 2,
       "version_minor": 0,
       "model_id": "c6f32fb615be447b863c27dc693143dc"
      }
     },
     "metadata": {},
     "output_type": "display_data"
    },
    {
     "name": "stderr",
     "output_type": "stream",
     "text": [
      "[Parallel(n_jobs=10)]: Using backend LokyBackend with 10 concurrent workers.\n",
      "[Parallel(n_jobs=10)]: Done  27 out of  30 | elapsed: 13.8min remaining:  1.5min\n"
     ]
    },
    {
     "name": "stdout",
     "output_type": "stream",
     "text": [
      "test_accuracy 0.9527685427374599\n",
      "test_precision 0.92279040592743\n",
      "test_recall 0.43447005318578363\n",
      "test_f1_score 0.5906088175598806\n"
     ]
    },
    {
     "name": "stderr",
     "output_type": "stream",
     "text": [
      "[Parallel(n_jobs=10)]: Done  30 out of  30 | elapsed: 13.9min finished\n"
     ]
    }
   ],
   "source": [
    "rfv2_scores = {\n",
    "    \"test_accuracy\": [], \"test_precision\": [], \"test_recall\": [], \"test_f1_score\": []\n",
    "}\n",
    "random.seed(2022)\n",
    "seeds = [random.randint(0, 2**32-1) for x in range(1)]\n",
    "\n",
    "for s in tqdm(seeds):\n",
    "    curr_score = rfv2.cv_base_model(\n",
    "        verbose=2, name_prefix=\"vesta_pca_enc_graph_rf_\", print_val_scoring=False, return_scoring=True, seed=s\n",
    "    )\n",
    "    for k,v in curr_score.items():\n",
    "        print(k, np.mean(v))\n",
    "        rfv2_scores[k].append(np.mean(v))"
   ],
   "metadata": {
    "collapsed": false,
    "pycharm": {
     "name": "#%%\n"
    }
   }
  },
  {
   "cell_type": "markdown",
   "source": [
    "## 3. Approach (2) with monopartite graph projection\n",
    "### 3.1 Appending monopartite graph features"
   ],
   "metadata": {
    "collapsed": false,
    "pycharm": {
     "name": "#%% md\n"
    }
   }
  },
  {
   "cell_type": "code",
   "execution_count": 57,
   "outputs": [
    {
     "name": "stdout",
     "output_type": "stream",
     "text": [
      "Added 7 graph features to the PCA (continuous) + Label encoded (categorical) dataset\n"
     ]
    }
   ],
   "source": [
    "with open(\"../data/processed/mono_vesta_graph_train_0.pkl\", \"rb\") as handle:\n",
    "    vesta_graph_features_mono = pickle.load(handle)\n",
    "all_features = list(vesta_graph_features_mono.columns)\n",
    "graph_features = list(filter(re.compile(r\".*degree.*|.*pagerank.*|.*hits.*|.*betweenness.*|.*wcc.*|.*community.*\").match, all_features))\n",
    "vesta_graph_features_mono = vesta_graph_features_mono[graph_features]\n",
    "print(f\"Added {len(graph_features)} graph features to the PCA (continuous) + Label encoded (categorical) dataset\")\n",
    "with open(\"../data/processed/vesta_pca_enc.pkl\", \"rb\") as handle:\n",
    "    vesta_pca_enc = pickle.load(handle)\n",
    "vesta_pca_enc_graph_mono = pd.concat((pd.DataFrame(vesta_pca_enc), vesta_graph_features_mono), axis=1)\n",
    "del vesta_graph_features_mono, vesta_pca_enc\n",
    "with open(\"../data/processed/vesta_pca_enc_graph_mono.pkl\", \"wb\") as handle:\n",
    "    pickle.dump(vesta_pca_enc_graph_mono, handle, protocol=pickle.HIGHEST_PROTOCOL)"
   ],
   "metadata": {
    "collapsed": false,
    "pycharm": {
     "name": "#%%\n"
    }
   }
  },
  {
   "cell_type": "markdown",
   "source": [
    "### 3.2 Running the model"
   ],
   "metadata": {
    "collapsed": false,
    "pycharm": {
     "name": "#%% md\n"
    }
   }
  },
  {
   "cell_type": "code",
   "execution_count": 60,
   "outputs": [
    {
     "data": {
      "text/plain": "0"
     },
     "execution_count": 60,
     "metadata": {},
     "output_type": "execute_result"
    }
   ],
   "source": [
    "reload(rf)\n",
    "rfv3 = rf.RF(n_jobs=10)\n",
    "rfv3.load_data(dataset_final_pattern=\"vesta_pca_enc_graph_mono\")"
   ],
   "metadata": {
    "collapsed": false,
    "pycharm": {
     "name": "#%%\n"
    }
   }
  },
  {
   "cell_type": "code",
   "execution_count": 61,
   "outputs": [
    {
     "data": {
      "text/plain": "  0%|          | 0/1 [00:00<?, ?it/s]",
      "application/vnd.jupyter.widget-view+json": {
       "version_major": 2,
       "version_minor": 0,
       "model_id": "67114635a3a7446e8446451c02c8d023"
      }
     },
     "metadata": {},
     "output_type": "display_data"
    },
    {
     "name": "stderr",
     "output_type": "stream",
     "text": [
      "[Parallel(n_jobs=10)]: Using backend LokyBackend with 10 concurrent workers.\n",
      "[Parallel(n_jobs=10)]: Done  27 out of  30 | elapsed: 13.4min remaining:  1.5min\n"
     ]
    },
    {
     "name": "stdout",
     "output_type": "stream",
     "text": [
      "test_accuracy 0.9527176927343317\n",
      "test_precision 0.9216404483378429\n",
      "test_recall 0.43435174684108513\n",
      "test_f1_score 0.5902678847772428\n"
     ]
    },
    {
     "name": "stderr",
     "output_type": "stream",
     "text": [
      "[Parallel(n_jobs=10)]: Done  30 out of  30 | elapsed: 13.4min finished\n"
     ]
    }
   ],
   "source": [
    "rfv3_scores = {\n",
    "    \"test_accuracy\": [], \"test_precision\": [], \"test_recall\": [], \"test_f1_score\": []\n",
    "}\n",
    "random.seed(2022)\n",
    "seeds = [random.randint(0, 2**32-1) for x in range(1)]\n",
    "\n",
    "for s in tqdm(seeds):\n",
    "    curr_score = rfv3.cv_base_model(\n",
    "        verbose=2, name_prefix=\"vesta_pca_enc_graph_mono_rf_\", print_val_scoring=False, return_scoring=True, seed=s\n",
    "    )\n",
    "    for k,v in curr_score.items():\n",
    "        print(k, np.mean(v))\n",
    "        rfv3_scores[k].append(np.mean(v))"
   ],
   "metadata": {
    "collapsed": false,
    "pycharm": {
     "name": "#%%\n"
    }
   }
  },
  {
   "cell_type": "markdown",
   "source": [
    "## 4. Elliptic dataset\n",
    "### 4.1 Elliptic baseline"
   ],
   "metadata": {
    "collapsed": false,
    "pycharm": {
     "name": "#%% md\n"
    }
   }
  },
  {
   "cell_type": "code",
   "execution_count": 62,
   "outputs": [
    {
     "data": {
      "text/plain": "0"
     },
     "execution_count": 62,
     "metadata": {},
     "output_type": "execute_result"
    }
   ],
   "source": [
    "reload(rf)\n",
    "rfe1 = rf.RF(\n",
    "    y_train_path=\"../data/processed/elliptic_train_target.pkl\", target=\"target\", n_jobs=10\n",
    ")\n",
    "rfe1.load_data(dataset_final_pattern=\"elliptic_train_pca\")"
   ],
   "metadata": {
    "collapsed": false,
    "pycharm": {
     "name": "#%%\n"
    }
   }
  },
  {
   "cell_type": "code",
   "execution_count": 65,
   "outputs": [
    {
     "name": "stderr",
     "output_type": "stream",
     "text": [
      "[Parallel(n_jobs=10)]: Using backend LokyBackend with 10 concurrent workers.\n",
      "[Parallel(n_jobs=10)]: Done  27 out of  30 | elapsed: 18.8min remaining:  2.1min\n"
     ]
    },
    {
     "name": "stdout",
     "output_type": "stream",
     "text": [
      "\n",
      "                    Mean validation results:\n",
      "                    Accuracy: 0.98\n",
      "                    Precision: 0.9054\n",
      "                    Recall: 0.4753\n",
      "                    F1 score: 0.6232\n",
      "                \n"
     ]
    },
    {
     "name": "stderr",
     "output_type": "stream",
     "text": [
      "[Parallel(n_jobs=10)]: Done  30 out of  30 | elapsed: 18.9min finished\n"
     ]
    }
   ],
   "source": [
    "rfe1_scores = {\n",
    "    \"test_accuracy\": [], \"test_precision\": [], \"test_recall\": [], \"test_f1_score\": []\n",
    "}\n",
    "random.seed(2022)\n",
    "seeds = [random.randint(0, 2**32-1) for x in range(1)]\n",
    "\n",
    "for s in tqdm(seeds):\n",
    "    curr_score = rfe1.cv_base_model(\n",
    "        verbose=2, save_model=True, name_prefix=\"elliptic_baseline_rf_\", print_val_scoring=True, return_scoring=True\n",
    "    )\n",
    "    for k,v in curr_score.items():\n",
    "        print(k, np.mean(v))\n",
    "        rfe1_scores[k].append(np.mean(v))"
   ],
   "metadata": {
    "collapsed": false,
    "pycharm": {
     "name": "#%%\n"
    }
   }
  },
  {
   "cell_type": "markdown",
   "source": [
    "## 5. Elliptic PCA + graph features\n",
    "### 5.1 Appending graph features to PCA result"
   ],
   "metadata": {
    "collapsed": false,
    "pycharm": {
     "name": "#%% md\n"
    }
   }
  },
  {
   "cell_type": "code",
   "execution_count": 16,
   "outputs": [
    {
     "data": {
      "text/plain": "<module 'src.preprocessing_elliptic' from 'C:\\\\Users\\\\user\\\\Documents\\\\Projects\\\\master-thesis\\\\src\\\\preprocessing_elliptic.py'>"
     },
     "execution_count": 16,
     "metadata": {},
     "output_type": "execute_result"
    }
   ],
   "source": [
    "# reload(pe)"
   ],
   "metadata": {
    "collapsed": false,
    "pycharm": {
     "name": "#%%\n"
    }
   }
  },
  {
   "cell_type": "code",
   "execution_count": 59,
   "outputs": [
    {
     "name": "stdout",
     "output_type": "stream",
     "text": [
      "Added 14 graph features to the PCA (continuous) + Label encoded (categorical) dataset\n"
     ]
    }
   ],
   "source": [
    "elliptic_train_pca = pd.read_pickle(\"../data/processed/elliptic_train_pca.pkl\")\n",
    "elliptic_metrics = pd.read_pickle(\"../data/processed/elliptic_metrics_df.pkl\")\n",
    "all_features = list(elliptic_metrics.columns)\n",
    "graph_features = list(filter(re.compile(r\".*degree.*|.*pagerank.*|.*hits.*|.*betweenness.*|.*wcc.*|.*community.*\").match, all_features))\n",
    "elliptic_metrics = elliptic_metrics[graph_features]\n",
    "print(f\"Added {len(graph_features)} graph features to the PCA (continuous) + Label encoded (categorical) dataset\")\n",
    "elliptic_pca_graph = pd.concat((pd.DataFrame(elliptic_train_pca), elliptic_metrics), axis=1)\n",
    "del elliptic_train_pca, elliptic_metrics\n",
    "with open(\"../data/processed/elliptic_pca_graph.pkl\", \"wb\") as handle:\n",
    "    pickle.dump(elliptic_pca_graph, handle, protocol=pickle.HIGHEST_PROTOCOL)"
   ],
   "metadata": {
    "collapsed": false,
    "pycharm": {
     "name": "#%%\n"
    }
   }
  },
  {
   "cell_type": "markdown",
   "source": [
    "### 5.2 Running the model"
   ],
   "metadata": {
    "collapsed": false,
    "pycharm": {
     "name": "#%% md\n"
    }
   }
  },
  {
   "cell_type": "code",
   "execution_count": 61,
   "outputs": [
    {
     "data": {
      "text/plain": "0"
     },
     "execution_count": 61,
     "metadata": {},
     "output_type": "execute_result"
    }
   ],
   "source": [
    "reload(rf)\n",
    "rfe2 = rf.RF(\n",
    "    y_train_path=\"../data/processed/elliptic_train_target.pkl\", target=\"target\", n_jobs=10\n",
    ")\n",
    "rfe2.load_data(dataset_final_pattern=\"elliptic_pca_graph\")"
   ],
   "metadata": {
    "collapsed": false,
    "pycharm": {
     "name": "#%%\n"
    }
   }
  },
  {
   "cell_type": "code",
   "execution_count": 64,
   "outputs": [
    {
     "data": {
      "text/plain": "  0%|          | 0/1 [00:00<?, ?it/s]",
      "application/vnd.jupyter.widget-view+json": {
       "version_major": 2,
       "version_minor": 0,
       "model_id": "cf2e0b343bbe459fbd7ae4099e2a2053"
      }
     },
     "metadata": {},
     "output_type": "display_data"
    },
    {
     "name": "stderr",
     "output_type": "stream",
     "text": [
      "[Parallel(n_jobs=10)]: Using backend LokyBackend with 10 concurrent workers.\n",
      "[Parallel(n_jobs=10)]: Done  27 out of  30 | elapsed: 18.5min remaining:  2.1min\n"
     ]
    },
    {
     "name": "stdout",
     "output_type": "stream",
     "text": [
      "test_accuracy 0.9817797804749475\n",
      "test_precision 0.9202436983945252\n",
      "test_recall 0.5209345653517433\n",
      "test_f1_score 0.6651294392179661\n"
     ]
    },
    {
     "name": "stderr",
     "output_type": "stream",
     "text": [
      "[Parallel(n_jobs=10)]: Done  30 out of  30 | elapsed: 18.5min finished\n"
     ]
    }
   ],
   "source": [
    "rfe2_scores = {\n",
    "    \"test_accuracy\": [], \"test_precision\": [], \"test_recall\": [], \"test_f1_score\": []\n",
    "}\n",
    "random.seed(2022)\n",
    "seeds = [random.randint(0, 2**32-1) for x in range(1)]\n",
    "\n",
    "for s in tqdm(seeds):\n",
    "    curr_score = rfe2.cv_base_model(\n",
    "        verbose=2, save_model=True, name_prefix=\"elliptic_graph_rf_\", print_val_scoring=False, return_scoring=True\n",
    "    )\n",
    "    for k,v in curr_score.items():\n",
    "        print(k, np.mean(v))\n",
    "        rfe2_scores[k].append(np.mean(v))"
   ],
   "metadata": {
    "collapsed": false,
    "pycharm": {
     "name": "#%%\n"
    }
   }
  }
 ],
 "metadata": {
  "kernelspec": {
   "display_name": "Python 3",
   "language": "python",
   "name": "python3"
  },
  "language_info": {
   "codemirror_mode": {
    "name": "ipython",
    "version": 2
   },
   "file_extension": ".py",
   "mimetype": "text/x-python",
   "name": "python",
   "nbconvert_exporter": "python",
   "pygments_lexer": "ipython2",
   "version": "2.7.6"
  }
 },
 "nbformat": 4,
 "nbformat_minor": 0
}