{
 "cells": [
  {
   "cell_type": "code",
   "execution_count": 76,
   "outputs": [],
   "source": [
    "import numpy as np\n",
    "import pandas as pd\n",
    "import os\n",
    "from neo4j import GraphDatabase\n",
    "import numpy as np\n",
    "import pandas as pd\n",
    "from sklearn.ensemble import RandomForestClassifier\n",
    "from sklearn.model_selection import train_test_split, StratifiedKFold, RepeatedStratifiedKFold, cross_val_score, RandomizedSearchCV, cross_validate\n",
    "from sklearn.metrics import make_scorer, accuracy_score, precision_score, recall_score, f1_score, roc_auc_score, roc_curve, auc, precision_recall_curve\n",
    "import pickle\n",
    "import matplotlib.pyplot as plt\n",
    "import re\n",
    "import os\n",
    "from sklearn.preprocessing import LabelEncoder"
   ],
   "metadata": {
    "collapsed": false,
    "pycharm": {
     "name": "#%%\n"
    }
   }
  },
  {
   "cell_type": "code",
   "execution_count": 94,
   "outputs": [],
   "source": [
    "with open(\"export/df_train_imputed.pkl\", \"rb\") as h:\n",
    "    df_imp = pickle.load(h)\n",
    "with open(\"export/train_label_encodings.pkl\", 'rb') as h:\n",
    "    enc = pickle.load(h)"
   ],
   "metadata": {
    "collapsed": false,
    "pycharm": {
     "name": "#%%\n"
    }
   }
  },
  {
   "cell_type": "code",
   "execution_count": 88,
   "outputs": [],
   "source": [
    "cat_cols = [\n",
    "    \"DeviceInfo\", \"id_33\", \"id_31\", \"id_30\", \"R_emaildomain\", \"P_emaildomain\",\n",
    "    \"ProductCD\", \"id_34\", \"card4\", \"M4\", \"id_23\", \"card6\", \"id_15\", \"id_37\",\n",
    "    \"id_36\", \"id_38\", \"id_35\", \"DeviceType\", \"V65\", \"id_29\", \"id_28\", \"id_27\",\n",
    "    \"V41\", \"V94\", \"id_16\", \"V88\", \"id_12\", \"V14\"\n",
    "]"
   ],
   "metadata": {
    "collapsed": false,
    "pycharm": {
     "name": "#%%\n"
    }
   }
  },
  {
   "cell_type": "code",
   "execution_count": 96,
   "outputs": [],
   "source": [
    "# for k in enc:\n",
    "#     print(len(enc[k].classes_))"
   ],
   "metadata": {
    "collapsed": false,
    "pycharm": {
     "name": "#%%\n"
    }
   }
  },
  {
   "cell_type": "code",
   "execution_count": 98,
   "outputs": [],
   "source": [
    "# (df_train_onehot[cat_cols])\n",
    "df_onehot = pd.get_dummies(df_imp, columns=cat_cols, prefix=\"dm\")"
   ],
   "metadata": {
    "collapsed": false,
    "pycharm": {
     "name": "#%%\n"
    }
   }
  },
  {
   "cell_type": "code",
   "execution_count": 100,
   "outputs": [
    {
     "data": {
      "text/plain": "        TransactionDT  TransactionAmt    card1  card2  card3  card5  \\\n0            1.001227       50.000000   4497.0  514.0  150.0  102.0   \n1            1.001562       15.000000   2803.0  100.0  150.0  226.0   \n2            1.001725       75.887001  16496.0  352.0  117.0  134.0   \n3            1.001794       16.495001   4461.0  375.0  185.0  224.0   \n4            1.002546       30.000000   1790.0  555.0  150.0  226.0   \n...               ...             ...      ...    ...    ...    ...   \n144228     182.995394       48.876999  12019.0  305.0  106.0  224.0   \n144229     182.996250      250.000000   1214.0  174.0  150.0  226.0   \n144230     182.996667       73.837997   5096.0  555.0  185.0  137.0   \n144231     182.996933      400.000000   6019.0  583.0  150.0  226.0   \n144232     182.998032       67.504997   5812.0  408.0  185.0  224.0   \n\n             addr1       addr2        dist2   C1  ...  dm_1  dm_2  dm_0  dm_1  \\\n0       420.000000   87.000000   226.697791  1.0  ...     1     0     0     0   \n1       337.000000   87.000000   226.507501  1.0  ...     1     0     0     0   \n2       300.664180 -508.852403   239.338202  1.0  ...     0     0     0     1   \n3       295.132378 -389.268907    30.000000  1.0  ...     1     0     0     1   \n4       170.000000   87.000000   226.407394  1.0  ...     0     0     0     0   \n...            ...         ...          ...  ...  ...   ...   ...   ...   ...   \n144228  298.777068 -409.641339     0.000000  1.0  ...     0     0     0     1   \n144229  272.000000   87.000000   224.470114  1.0  ...     1     0     0     0   \n144230  295.276861 -386.144694   238.646220  1.0  ...     1     0     0     1   \n144231  337.000000   87.000000  2296.000000  2.0  ...     0     0     0     0   \n144232  295.495628 -402.144406   238.571914  1.0  ...     1     0     0     1   \n\n        dm_2  dm_0  dm_1  dm_0  dm_1  dm_2  \n0          1     0     1     0     0     1  \n1          1     0     1     0     0     1  \n2          0     0     1     0     1     0  \n3          0     0     1     0     1     0  \n4          1     0     1     0     0     1  \n...      ...   ...   ...   ...   ...   ...  \n144228     0     0     1     0     1     0  \n144229     1     0     1     0     0     1  \n144230     0     0     1     0     1     0  \n144231     1     0     1     0     0     1  \n144232     0     0     1     0     1     0  \n\n[144233 rows x 2812 columns]",
      "text/html": "<div>\n<style scoped>\n    .dataframe tbody tr th:only-of-type {\n        vertical-align: middle;\n    }\n\n    .dataframe tbody tr th {\n        vertical-align: top;\n    }\n\n    .dataframe thead th {\n        text-align: right;\n    }\n</style>\n<table border=\"1\" class=\"dataframe\">\n  <thead>\n    <tr style=\"text-align: right;\">\n      <th></th>\n      <th>TransactionDT</th>\n      <th>TransactionAmt</th>\n      <th>card1</th>\n      <th>card2</th>\n      <th>card3</th>\n      <th>card5</th>\n      <th>addr1</th>\n      <th>addr2</th>\n      <th>dist2</th>\n      <th>C1</th>\n      <th>...</th>\n      <th>dm_1</th>\n      <th>dm_2</th>\n      <th>dm_0</th>\n      <th>dm_1</th>\n      <th>dm_2</th>\n      <th>dm_0</th>\n      <th>dm_1</th>\n      <th>dm_0</th>\n      <th>dm_1</th>\n      <th>dm_2</th>\n    </tr>\n  </thead>\n  <tbody>\n    <tr>\n      <th>0</th>\n      <td>1.001227</td>\n      <td>50.000000</td>\n      <td>4497.0</td>\n      <td>514.0</td>\n      <td>150.0</td>\n      <td>102.0</td>\n      <td>420.000000</td>\n      <td>87.000000</td>\n      <td>226.697791</td>\n      <td>1.0</td>\n      <td>...</td>\n      <td>1</td>\n      <td>0</td>\n      <td>0</td>\n      <td>0</td>\n      <td>1</td>\n      <td>0</td>\n      <td>1</td>\n      <td>0</td>\n      <td>0</td>\n      <td>1</td>\n    </tr>\n    <tr>\n      <th>1</th>\n      <td>1.001562</td>\n      <td>15.000000</td>\n      <td>2803.0</td>\n      <td>100.0</td>\n      <td>150.0</td>\n      <td>226.0</td>\n      <td>337.000000</td>\n      <td>87.000000</td>\n      <td>226.507501</td>\n      <td>1.0</td>\n      <td>...</td>\n      <td>1</td>\n      <td>0</td>\n      <td>0</td>\n      <td>0</td>\n      <td>1</td>\n      <td>0</td>\n      <td>1</td>\n      <td>0</td>\n      <td>0</td>\n      <td>1</td>\n    </tr>\n    <tr>\n      <th>2</th>\n      <td>1.001725</td>\n      <td>75.887001</td>\n      <td>16496.0</td>\n      <td>352.0</td>\n      <td>117.0</td>\n      <td>134.0</td>\n      <td>300.664180</td>\n      <td>-508.852403</td>\n      <td>239.338202</td>\n      <td>1.0</td>\n      <td>...</td>\n      <td>0</td>\n      <td>0</td>\n      <td>0</td>\n      <td>1</td>\n      <td>0</td>\n      <td>0</td>\n      <td>1</td>\n      <td>0</td>\n      <td>1</td>\n      <td>0</td>\n    </tr>\n    <tr>\n      <th>3</th>\n      <td>1.001794</td>\n      <td>16.495001</td>\n      <td>4461.0</td>\n      <td>375.0</td>\n      <td>185.0</td>\n      <td>224.0</td>\n      <td>295.132378</td>\n      <td>-389.268907</td>\n      <td>30.000000</td>\n      <td>1.0</td>\n      <td>...</td>\n      <td>1</td>\n      <td>0</td>\n      <td>0</td>\n      <td>1</td>\n      <td>0</td>\n      <td>0</td>\n      <td>1</td>\n      <td>0</td>\n      <td>1</td>\n      <td>0</td>\n    </tr>\n    <tr>\n      <th>4</th>\n      <td>1.002546</td>\n      <td>30.000000</td>\n      <td>1790.0</td>\n      <td>555.0</td>\n      <td>150.0</td>\n      <td>226.0</td>\n      <td>170.000000</td>\n      <td>87.000000</td>\n      <td>226.407394</td>\n      <td>1.0</td>\n      <td>...</td>\n      <td>0</td>\n      <td>0</td>\n      <td>0</td>\n      <td>0</td>\n      <td>1</td>\n      <td>0</td>\n      <td>1</td>\n      <td>0</td>\n      <td>0</td>\n      <td>1</td>\n    </tr>\n    <tr>\n      <th>...</th>\n      <td>...</td>\n      <td>...</td>\n      <td>...</td>\n      <td>...</td>\n      <td>...</td>\n      <td>...</td>\n      <td>...</td>\n      <td>...</td>\n      <td>...</td>\n      <td>...</td>\n      <td>...</td>\n      <td>...</td>\n      <td>...</td>\n      <td>...</td>\n      <td>...</td>\n      <td>...</td>\n      <td>...</td>\n      <td>...</td>\n      <td>...</td>\n      <td>...</td>\n      <td>...</td>\n    </tr>\n    <tr>\n      <th>144228</th>\n      <td>182.995394</td>\n      <td>48.876999</td>\n      <td>12019.0</td>\n      <td>305.0</td>\n      <td>106.0</td>\n      <td>224.0</td>\n      <td>298.777068</td>\n      <td>-409.641339</td>\n      <td>0.000000</td>\n      <td>1.0</td>\n      <td>...</td>\n      <td>0</td>\n      <td>0</td>\n      <td>0</td>\n      <td>1</td>\n      <td>0</td>\n      <td>0</td>\n      <td>1</td>\n      <td>0</td>\n      <td>1</td>\n      <td>0</td>\n    </tr>\n    <tr>\n      <th>144229</th>\n      <td>182.996250</td>\n      <td>250.000000</td>\n      <td>1214.0</td>\n      <td>174.0</td>\n      <td>150.0</td>\n      <td>226.0</td>\n      <td>272.000000</td>\n      <td>87.000000</td>\n      <td>224.470114</td>\n      <td>1.0</td>\n      <td>...</td>\n      <td>1</td>\n      <td>0</td>\n      <td>0</td>\n      <td>0</td>\n      <td>1</td>\n      <td>0</td>\n      <td>1</td>\n      <td>0</td>\n      <td>0</td>\n      <td>1</td>\n    </tr>\n    <tr>\n      <th>144230</th>\n      <td>182.996667</td>\n      <td>73.837997</td>\n      <td>5096.0</td>\n      <td>555.0</td>\n      <td>185.0</td>\n      <td>137.0</td>\n      <td>295.276861</td>\n      <td>-386.144694</td>\n      <td>238.646220</td>\n      <td>1.0</td>\n      <td>...</td>\n      <td>1</td>\n      <td>0</td>\n      <td>0</td>\n      <td>1</td>\n      <td>0</td>\n      <td>0</td>\n      <td>1</td>\n      <td>0</td>\n      <td>1</td>\n      <td>0</td>\n    </tr>\n    <tr>\n      <th>144231</th>\n      <td>182.996933</td>\n      <td>400.000000</td>\n      <td>6019.0</td>\n      <td>583.0</td>\n      <td>150.0</td>\n      <td>226.0</td>\n      <td>337.000000</td>\n      <td>87.000000</td>\n      <td>2296.000000</td>\n      <td>2.0</td>\n      <td>...</td>\n      <td>0</td>\n      <td>0</td>\n      <td>0</td>\n      <td>0</td>\n      <td>1</td>\n      <td>0</td>\n      <td>1</td>\n      <td>0</td>\n      <td>0</td>\n      <td>1</td>\n    </tr>\n    <tr>\n      <th>144232</th>\n      <td>182.998032</td>\n      <td>67.504997</td>\n      <td>5812.0</td>\n      <td>408.0</td>\n      <td>185.0</td>\n      <td>224.0</td>\n      <td>295.495628</td>\n      <td>-402.144406</td>\n      <td>238.571914</td>\n      <td>1.0</td>\n      <td>...</td>\n      <td>1</td>\n      <td>0</td>\n      <td>0</td>\n      <td>1</td>\n      <td>0</td>\n      <td>0</td>\n      <td>1</td>\n      <td>0</td>\n      <td>1</td>\n      <td>0</td>\n    </tr>\n  </tbody>\n</table>\n<p>144233 rows × 2812 columns</p>\n</div>"
     },
     "execution_count": 100,
     "metadata": {},
     "output_type": "execute_result"
    }
   ],
   "source": [],
   "metadata": {
    "collapsed": false,
    "pycharm": {
     "name": "#%%\n"
    }
   }
  },
  {
   "cell_type": "code",
   "execution_count": 101,
   "outputs": [
    {
     "name": "stderr",
     "output_type": "stream",
     "text": [
      "[Parallel(n_jobs=-1)]: Using backend LokyBackend with 12 concurrent workers.\n",
      "[Parallel(n_jobs=-1)]: Done   5 out of  10 | elapsed:  5.6min remaining:  5.6min\n",
      "[Parallel(n_jobs=-1)]: Done  10 out of  10 | elapsed:  5.7min finished\n"
     ]
    }
   ],
   "source": [
    "n_estimators = [50, 100, 200, 250, 300, 400, 500, 800]\n",
    "max_features = ['auto', 'sqrt']\n",
    "max_depth = [5, 10, 20, 30, 40, 50, 70, 90]\n",
    "min_samples_split = [2, 4, 5, 10, 12]\n",
    "min_samples_leaf = [1, 2, 4, 7, 9]\n",
    "bootstrap = [True, False]\n",
    "\n",
    "scoring = {\n",
    "    \"accuracy\": make_scorer(accuracy_score),\n",
    "    \"precision\": make_scorer(precision_score),\n",
    "    \"recall\": make_scorer(recall_score),\n",
    "    \"f1_score\": make_scorer(f1_score)\n",
    "}\n",
    "\n",
    "random_grid = {\n",
    "    \"n_estimators\": n_estimators,\n",
    "    \"max_features\": max_features,\n",
    "    \"max_depth\": max_depth,\n",
    "    \"min_samples_split\": min_samples_split,\n",
    "    \"min_samples_leaf\": min_samples_leaf,\n",
    "    \"bootstrap\": bootstrap\n",
    "}\n",
    "\n",
    "model = RandomForestClassifier()\n",
    "\n",
    "cv = StratifiedKFold(n_splits=10, shuffle=True, random_state=2022)\n",
    "\n",
    "cv_scores = cross_validate(\n",
    "    model, df_onehot.drop(axis=1, columns=\"isFraud\"), df_onehot[\"isFraud\"], scoring=scoring, cv=cv,\n",
    "    n_jobs=-1, error_score='raise', verbose=2\n",
    ")"
   ],
   "metadata": {
    "collapsed": false,
    "pycharm": {
     "name": "#%%\n"
    }
   }
  },
  {
   "cell_type": "code",
   "execution_count": 103,
   "outputs": [
    {
     "data": {
      "text/plain": "{'fit_time': array([330.5850122 , 334.09761882, 330.89119363, 332.74922395,\n        333.91909814, 332.91976905, 335.07600474, 328.5624187 ,\n        328.76786852, 329.9367435 ]),\n 'score_time': array([1.44513631, 1.03523445, 1.35936666, 1.27559018, 1.02126932,\n        1.16288829, 0.91857862, 1.79220796, 1.80317998, 1.63662696]),\n 'test_accuracy': array([0.96602884, 0.96505824, 0.96408763, 0.9678985 , 0.96658116,\n        0.96602649, 0.96581848, 0.96928517, 0.96637315, 0.96706649]),\n 'test_precision': array([0.95467422, 0.94101124, 0.93484419, 0.92930591, 0.9391069 ,\n        0.95338983, 0.94190871, 0.9503268 , 0.9365722 , 0.94693878]),\n 'test_recall': array([0.59540636, 0.59187279, 0.58303887, 0.63925729, 0.61361627,\n        0.59628975, 0.60159011, 0.64222615, 0.6130742 , 0.61484099]),\n 'test_f1_score': array([0.73340588, 0.72668113, 0.71817193, 0.75746464, 0.74224599,\n        0.73369565, 0.73423181, 0.76647338, 0.74105713, 0.74558115])}"
     },
     "execution_count": 103,
     "metadata": {},
     "output_type": "execute_result"
    }
   ],
   "source": [
    "# cv_scores"
   ],
   "metadata": {
    "collapsed": false,
    "pycharm": {
     "name": "#%%\n"
    }
   }
  },
  {
   "cell_type": "code",
   "execution_count": 104,
   "outputs": [
    {
     "name": "stdout",
     "output_type": "stream",
     "text": [
      "Fitting 10 folds for each of 10 candidates, totalling 100 fits\n"
     ]
    },
    {
     "data": {
      "text/plain": "RandomizedSearchCV(cv=StratifiedKFold(n_splits=10, random_state=2022, shuffle=True),\n                   error_score='raise', estimator=RandomForestClassifier(),\n                   n_jobs=-1,\n                   param_distributions={'bootstrap': [True, False],\n                                        'max_depth': [5, 10, 20, 30, 40, 50, 70,\n                                                      90],\n                                        'max_features': ['auto', 'sqrt'],\n                                        'min_samples_leaf': [1, 2, 4, 7, 9],\n                                        'min_samples_split': [2, 4, 5, 10, 12],\n                                        'n_estimators': [50, 100, 200, 250, 300,\n                                                         400, 500, 800]},\n                   random_state=2022, refit='f1_score',\n                   scoring={'accuracy': make_scorer(accuracy_score),\n                            'f1_score': make_scorer(f1_score),\n                            'precision': make_scorer(precision_score),\n                            'recall': make_scorer(recall_score)},\n                   verbose=2)",
      "text/html": "<style>#sk-container-id-8 {color: black;background-color: white;}#sk-container-id-8 pre{padding: 0;}#sk-container-id-8 div.sk-toggleable {background-color: white;}#sk-container-id-8 label.sk-toggleable__label {cursor: pointer;display: block;width: 100%;margin-bottom: 0;padding: 0.3em;box-sizing: border-box;text-align: center;}#sk-container-id-8 label.sk-toggleable__label-arrow:before {content: \"▸\";float: left;margin-right: 0.25em;color: #696969;}#sk-container-id-8 label.sk-toggleable__label-arrow:hover:before {color: black;}#sk-container-id-8 div.sk-estimator:hover label.sk-toggleable__label-arrow:before {color: black;}#sk-container-id-8 div.sk-toggleable__content {max-height: 0;max-width: 0;overflow: hidden;text-align: left;background-color: #f0f8ff;}#sk-container-id-8 div.sk-toggleable__content pre {margin: 0.2em;color: black;border-radius: 0.25em;background-color: #f0f8ff;}#sk-container-id-8 input.sk-toggleable__control:checked~div.sk-toggleable__content {max-height: 200px;max-width: 100%;overflow: auto;}#sk-container-id-8 input.sk-toggleable__control:checked~label.sk-toggleable__label-arrow:before {content: \"▾\";}#sk-container-id-8 div.sk-estimator input.sk-toggleable__control:checked~label.sk-toggleable__label {background-color: #d4ebff;}#sk-container-id-8 div.sk-label input.sk-toggleable__control:checked~label.sk-toggleable__label {background-color: #d4ebff;}#sk-container-id-8 input.sk-hidden--visually {border: 0;clip: rect(1px 1px 1px 1px);clip: rect(1px, 1px, 1px, 1px);height: 1px;margin: -1px;overflow: hidden;padding: 0;position: absolute;width: 1px;}#sk-container-id-8 div.sk-estimator {font-family: monospace;background-color: #f0f8ff;border: 1px dotted black;border-radius: 0.25em;box-sizing: border-box;margin-bottom: 0.5em;}#sk-container-id-8 div.sk-estimator:hover {background-color: #d4ebff;}#sk-container-id-8 div.sk-parallel-item::after {content: \"\";width: 100%;border-bottom: 1px solid gray;flex-grow: 1;}#sk-container-id-8 div.sk-label:hover label.sk-toggleable__label {background-color: #d4ebff;}#sk-container-id-8 div.sk-serial::before {content: \"\";position: absolute;border-left: 1px solid gray;box-sizing: border-box;top: 0;bottom: 0;left: 50%;z-index: 0;}#sk-container-id-8 div.sk-serial {display: flex;flex-direction: column;align-items: center;background-color: white;padding-right: 0.2em;padding-left: 0.2em;position: relative;}#sk-container-id-8 div.sk-item {position: relative;z-index: 1;}#sk-container-id-8 div.sk-parallel {display: flex;align-items: stretch;justify-content: center;background-color: white;position: relative;}#sk-container-id-8 div.sk-item::before, #sk-container-id-8 div.sk-parallel-item::before {content: \"\";position: absolute;border-left: 1px solid gray;box-sizing: border-box;top: 0;bottom: 0;left: 50%;z-index: -1;}#sk-container-id-8 div.sk-parallel-item {display: flex;flex-direction: column;z-index: 1;position: relative;background-color: white;}#sk-container-id-8 div.sk-parallel-item:first-child::after {align-self: flex-end;width: 50%;}#sk-container-id-8 div.sk-parallel-item:last-child::after {align-self: flex-start;width: 50%;}#sk-container-id-8 div.sk-parallel-item:only-child::after {width: 0;}#sk-container-id-8 div.sk-dashed-wrapped {border: 1px dashed gray;margin: 0 0.4em 0.5em 0.4em;box-sizing: border-box;padding-bottom: 0.4em;background-color: white;}#sk-container-id-8 div.sk-label label {font-family: monospace;font-weight: bold;display: inline-block;line-height: 1.2em;}#sk-container-id-8 div.sk-label-container {text-align: center;}#sk-container-id-8 div.sk-container {/* jupyter's `normalize.less` sets `[hidden] { display: none; }` but bootstrap.min.css set `[hidden] { display: none !important; }` so we also need the `!important` here to be able to override the default hidden behavior on the sphinx rendered scikit-learn.org. See: https://github.com/scikit-learn/scikit-learn/issues/21755 */display: inline-block !important;position: relative;}#sk-container-id-8 div.sk-text-repr-fallback {display: none;}</style><div id=\"sk-container-id-8\" class=\"sk-top-container\"><div class=\"sk-text-repr-fallback\"><pre>RandomizedSearchCV(cv=StratifiedKFold(n_splits=10, random_state=2022, shuffle=True),\n                   error_score=&#x27;raise&#x27;, estimator=RandomForestClassifier(),\n                   n_jobs=-1,\n                   param_distributions={&#x27;bootstrap&#x27;: [True, False],\n                                        &#x27;max_depth&#x27;: [5, 10, 20, 30, 40, 50, 70,\n                                                      90],\n                                        &#x27;max_features&#x27;: [&#x27;auto&#x27;, &#x27;sqrt&#x27;],\n                                        &#x27;min_samples_leaf&#x27;: [1, 2, 4, 7, 9],\n                                        &#x27;min_samples_split&#x27;: [2, 4, 5, 10, 12],\n                                        &#x27;n_estimators&#x27;: [50, 100, 200, 250, 300,\n                                                         400, 500, 800]},\n                   random_state=2022, refit=&#x27;f1_score&#x27;,\n                   scoring={&#x27;accuracy&#x27;: make_scorer(accuracy_score),\n                            &#x27;f1_score&#x27;: make_scorer(f1_score),\n                            &#x27;precision&#x27;: make_scorer(precision_score),\n                            &#x27;recall&#x27;: make_scorer(recall_score)},\n                   verbose=2)</pre><b>In a Jupyter environment, please rerun this cell to show the HTML representation or trust the notebook. <br />On GitHub, the HTML representation is unable to render, please try loading this page with nbviewer.org.</b></div><div class=\"sk-container\" hidden><div class=\"sk-item sk-dashed-wrapped\"><div class=\"sk-label-container\"><div class=\"sk-label sk-toggleable\"><input class=\"sk-toggleable__control sk-hidden--visually\" id=\"sk-estimator-id-14\" type=\"checkbox\" ><label for=\"sk-estimator-id-14\" class=\"sk-toggleable__label sk-toggleable__label-arrow\">RandomizedSearchCV</label><div class=\"sk-toggleable__content\"><pre>RandomizedSearchCV(cv=StratifiedKFold(n_splits=10, random_state=2022, shuffle=True),\n                   error_score=&#x27;raise&#x27;, estimator=RandomForestClassifier(),\n                   n_jobs=-1,\n                   param_distributions={&#x27;bootstrap&#x27;: [True, False],\n                                        &#x27;max_depth&#x27;: [5, 10, 20, 30, 40, 50, 70,\n                                                      90],\n                                        &#x27;max_features&#x27;: [&#x27;auto&#x27;, &#x27;sqrt&#x27;],\n                                        &#x27;min_samples_leaf&#x27;: [1, 2, 4, 7, 9],\n                                        &#x27;min_samples_split&#x27;: [2, 4, 5, 10, 12],\n                                        &#x27;n_estimators&#x27;: [50, 100, 200, 250, 300,\n                                                         400, 500, 800]},\n                   random_state=2022, refit=&#x27;f1_score&#x27;,\n                   scoring={&#x27;accuracy&#x27;: make_scorer(accuracy_score),\n                            &#x27;f1_score&#x27;: make_scorer(f1_score),\n                            &#x27;precision&#x27;: make_scorer(precision_score),\n                            &#x27;recall&#x27;: make_scorer(recall_score)},\n                   verbose=2)</pre></div></div></div><div class=\"sk-parallel\"><div class=\"sk-parallel-item\"><div class=\"sk-item\"><div class=\"sk-label-container\"><div class=\"sk-label sk-toggleable\"><input class=\"sk-toggleable__control sk-hidden--visually\" id=\"sk-estimator-id-15\" type=\"checkbox\" ><label for=\"sk-estimator-id-15\" class=\"sk-toggleable__label sk-toggleable__label-arrow\">estimator: RandomForestClassifier</label><div class=\"sk-toggleable__content\"><pre>RandomForestClassifier()</pre></div></div></div><div class=\"sk-serial\"><div class=\"sk-item\"><div class=\"sk-estimator sk-toggleable\"><input class=\"sk-toggleable__control sk-hidden--visually\" id=\"sk-estimator-id-16\" type=\"checkbox\" ><label for=\"sk-estimator-id-16\" class=\"sk-toggleable__label sk-toggleable__label-arrow\">RandomForestClassifier</label><div class=\"sk-toggleable__content\"><pre>RandomForestClassifier()</pre></div></div></div></div></div></div></div></div></div></div>"
     },
     "execution_count": 104,
     "metadata": {},
     "output_type": "execute_result"
    }
   ],
   "source": [
    "model = RandomForestClassifier()\n",
    "model_tuned = RandomizedSearchCV(\n",
    "    estimator=model, param_distributions=random_grid, n_iter=10,\n",
    "    scoring=scoring, cv=cv, verbose=2, random_state=2022,\n",
    "    n_jobs=-1, error_score=\"raise\", refit=\"f1_score\"\n",
    ")\n",
    "\n",
    "model_tuned.fit(df_onehot.drop(axis=1, columns=\"isFraud\"), df_onehot[\"isFraud\"])"
   ],
   "metadata": {
    "collapsed": false,
    "pycharm": {
     "name": "#%%\n"
    }
   }
  },
  {
   "cell_type": "code",
   "execution_count": 106,
   "outputs": [
    {
     "name": "stdout",
     "output_type": "stream",
     "text": [
      "\n",
      "Mean validation results:\n",
      "Accuracy: 0.962\n",
      "Precision: 0.928\n",
      "Recall: 0.5593\n",
      "F1 score: 0.6977\n",
      "\n"
     ]
    }
   ],
   "source": [
    "res_dict = model_tuned.cv_results_\n",
    "print(f\"\"\"\n",
    "Mean validation -results:\n",
    "Accuracy: {np.round(res_dict[\"mean_test_accuracy\"][0], 4)}\n",
    "Precision: {np.round(res_dict[\"mean_test_precision\"][0], 4)}\n",
    "Recall: {np.round(res_dict[\"mean_test_recall\"][0], 4)}\n",
    "F1 score: {np.round(res_dict[\"mean_test_f1_score\"][0], 4)}\n",
    "\"\"\")"
   ],
   "metadata": {
    "collapsed": false,
    "pycharm": {
     "name": "#%%\n"
    }
   }
  },
  {
   "cell_type": "code",
   "execution_count": 29,
   "outputs": [],
   "source": [
    "class RF:\n",
    "    def __init__(self, imp_datasets_dir=r\"export/\", y_train_path=\"export/df_train_y.pkl\", target=\"isFraud\",\n",
    "                 seed=2022, cv_n_splits=10):\n",
    "        self.imp_path = imp_datasets_dir\n",
    "        self.y_train_path = y_train_path\n",
    "        self.y_train = None\n",
    "        self.target = target\n",
    "        self.X_train_list, self.y_train_list = [], []\n",
    "        self.seed = seed\n",
    "        self.cv = StratifiedKFold(n_splits=cv_n_splits, shuffle=True, random_state=self.seed)\n",
    "        self.scoring = {\n",
    "            \"accuracy\": make_scorer(accuracy_score),\n",
    "            \"precision\": make_scorer(precision_score),\n",
    "            \"recall\": make_scorer(recall_score),\n",
    "            \"f1_score\": make_scorer(f1_score)\n",
    "        }\n",
    "        self.cv_base_models, self.cv_scores, self.tuned_models = [], [], []\n",
    "        self.cv_n_splits = cv_n_splits\n",
    "\n",
    "    def load_data(self, x_final_pattern=r\"X_final_\", with_pickle=True):\n",
    "        # Search for imputed datasets\n",
    "        path_list = os.listdir(self.imp_path)\n",
    "\n",
    "        if with_pickle:\n",
    "            X_path_list = list(filter(re.compile(x_final_pattern+r\"\\d\"+r\"\\.pkl\").match, path_list))\n",
    "\n",
    "            # Append those datasets to list\n",
    "            for p in X_path_list:\n",
    "                with open(self.imp_path+p, \"rb\") as h:\n",
    "                    self.X_train_list.append(pickle.load(h))\n",
    "\n",
    "            # Load target vector\n",
    "            with open(self.y_train_path, \"rb\") as h:\n",
    "                self.y_train = pickle.load(h)\n",
    "\n",
    "        # Otherwise, load from .csv\n",
    "        else:\n",
    "            X_path_list = list(filter(re.compile(x_final_pattern+r\"\\d\"+r\"\\.csv\").match, path_list))\n",
    "            for p in X_path_list:\n",
    "                self.X_train_list.append(pd.read_csv(self.imp_path+p))\n",
    "\n",
    "            self.y_train = pd.read_csv(self.y_train_path)\n",
    "\n",
    "        return 0\n",
    "\n",
    "    def cv_base_model(self, verbose=1):\n",
    "        for X in self.X_train_list:\n",
    "            model = RandomForestClassifier()\n",
    "\n",
    "            cv_scores = cross_validate(\n",
    "                model, X, self.y_train, scoring=self.scoring, cv=self.cv,\n",
    "                n_jobs=-1, error_score='raise', verbose=verbose\n",
    "            )\n",
    "\n",
    "            self.cv_scores.append(cv_scores)\n",
    "            self.cv_base_models.append(model)\n",
    "\n",
    "        return 0\n",
    "\n",
    "    def tune_model(self, verbose=1):\n",
    "        for i in range(len(self.cv_base_models)):\n",
    "\n",
    "            n_estimators = [50, 100, 200, 250, 300, 400, 500, 800]\n",
    "            max_features = ['auto', 'sqrt']\n",
    "            max_depth = [5, 10, 20, 30, 40, 50, 70, 90]\n",
    "            min_samples_split = [2, 4, 5, 10, 12]\n",
    "            min_samples_leaf = [1, 2, 4, 7, 9]\n",
    "            bootstrap = [True, False]\n",
    "\n",
    "            random_grid = {\n",
    "                \"n_estimators\": n_estimators,\n",
    "                \"max_features\": max_features,\n",
    "                \"max_depth\": max_depth,\n",
    "                \"min_samples_split\": min_samples_split,\n",
    "                \"min_samples_leaf\": min_samples_leaf,\n",
    "                \"bootstrap\": bootstrap\n",
    "            }\n",
    "\n",
    "            cv = RepeatedStratifiedKFold(n_splits=self.cv_n_splits, n_repeats=3, random_state=self.seed)\n",
    "\n",
    "            model_tuned = RandomizedSearchCV(\n",
    "                estimator=self.cv_base_models[i], param_distributions=random_grid, n_iter=1,\n",
    "                scoring=self.scoring, cv=cv, verbose=verbose, random_state=self.seed,\n",
    "                n_jobs=-1, error_score=\"raise\", refit=\"f1_score\"\n",
    "            )\n",
    "\n",
    "            model_tuned.fit(self.X_train_list[i], self.y_train)\n",
    "\n",
    "            self.tuned_models.append(model_tuned)\n",
    "\n",
    "        return 0\n"
   ],
   "metadata": {
    "collapsed": false,
    "pycharm": {
     "name": "#%%\n"
    }
   }
  },
  {
   "cell_type": "code",
   "execution_count": 30,
   "outputs": [],
   "source": [
    "rf = RF()"
   ],
   "metadata": {
    "collapsed": false,
    "pycharm": {
     "name": "#%%\n"
    }
   }
  },
  {
   "cell_type": "code",
   "execution_count": null,
   "outputs": [],
   "source": [
    "rf.load_data()"
   ],
   "metadata": {
    "collapsed": false,
    "pycharm": {
     "name": "#%%\n"
    }
   }
  },
  {
   "cell_type": "code",
   "execution_count": null,
   "outputs": [],
   "source": [
    "rf.cv_base_model(verbose=2)"
   ],
   "metadata": {
    "collapsed": false,
    "pycharm": {
     "name": "#%%\n"
    }
   }
  },
  {
   "cell_type": "code",
   "execution_count": null,
   "outputs": [],
   "source": [
    "rf.tune_model(verbose=2)"
   ],
   "metadata": {
    "collapsed": false,
    "pycharm": {
     "name": "#%%\n"
    }
   }
  },
  {
   "cell_type": "code",
   "execution_count": 42,
   "outputs": [],
   "source": [
    "train_probas = rf.tuned_models[0].best_estimator_.predict_proba(rf.X_train_list[0])"
   ],
   "metadata": {
    "collapsed": false,
    "pycharm": {
     "name": "#%%\n"
    }
   }
  },
  {
   "cell_type": "code",
   "execution_count": 68,
   "outputs": [
    {
     "name": "stdout",
     "output_type": "stream",
     "text": [
      "\n",
      "Mean validation results:\n",
      "Accuracy: 0.3423\n",
      "Precisioon: 0.1442\n",
      "Recall: 0.4075\n",
      "F1 score: 0.1209\n",
      "\n"
     ]
    }
   ],
   "source": [
    "res_dict = rf.tuned_models[0].cv_results_\n",
    "print(f\"\"\"\n",
    "Mean validation results:\n",
    "Accuracy: {np.round(res_dict[\"mean_test_accuracy\"][0], 4)}\n",
    "Precision: {np.round(res_dict[\"mean_test_precision\"][0], 4)}\n",
    "Recall: {np.round(res_dict[\"mean_test_recall\"][0], 4)}\n",
    "F1 score: {np.round(res_dict[\"mean_test_f1_score\"][0], 4)}\n",
    "\"\"\")"
   ],
   "metadata": {
    "collapsed": false,
    "pycharm": {
     "name": "#%%\n"
    }
   }
  },
  {
   "cell_type": "code",
   "execution_count": 46,
   "outputs": [],
   "source": [
    "def plot_roc(pred_probas, real_labels, save_plot=False, save_dir=r\"visualizations/\"):\n",
    "    fpr, tpr, threshold = roc_curve(real_labels, pred_probas)\n",
    "    roc_auc = auc(fpr, tpr)\n",
    "    plt.title('Receiver Operating Characteristic')\n",
    "    plt.plot(fpr, tpr, 'b', label = 'AUC = %0.2f' % roc_auc)\n",
    "    plt.legend(loc = 'lower right')\n",
    "    plt.plot([0, 1], [0, 1],'r--')\n",
    "    plt.xlim([0, 1])\n",
    "    plt.ylim([0, 1])\n",
    "    plt.ylabel('True Positive Rate')\n",
    "    plt.xlabel('False Positive Rate')\n",
    "\n",
    "    if save_plot:\n",
    "        if not os.path.exists(save_dir):\n",
    "            os.mkdir(save_dir)\n",
    "        plt.savefig(save_dir+r\"roc_auc_baseline.png\")\n",
    "\n",
    "    plt.show()\n",
    "\n",
    "    return 0\n"
   ],
   "metadata": {
    "collapsed": false,
    "pycharm": {
     "name": "#%%\n"
    }
   }
  },
  {
   "cell_type": "code",
   "execution_count": 55,
   "outputs": [
    {
     "data": {
      "text/plain": "<Figure size 432x288 with 1 Axes>",
      "image/png": "[encoded data removed]"
     },
     "metadata": {},
     "output_type": "display_data"
    },
    {
     "data": {
      "text/plain": "0"
     },
     "execution_count": 55,
     "metadata": {},
     "output_type": "execute_result"
    }
   ],
   "source": [
    "plot_roc(train_probas[:,1], rf.y_train.codes)"
   ],
   "metadata": {
    "collapsed": false,
    "pycharm": {
     "name": "#%%\n"
    }
   }
  },
  {
   "cell_type": "code",
   "execution_count": 63,
   "outputs": [
    {
     "ename": "TypeError",
     "evalue": "score() missing 2 required positional arguments: 'X' and 'y'",
     "output_type": "error",
     "traceback": [
      "\u001B[1;31m---------------------------------------------------------------------------\u001B[0m",
      "\u001B[1;31mTypeError\u001B[0m                                 Traceback (most recent call last)",
      "\u001B[1;32m~\\AppData\\Local\\Temp/ipykernel_13336/2666372154.py\u001B[0m in \u001B[0;36m<module>\u001B[1;34m\u001B[0m\n\u001B[1;32m----> 1\u001B[1;33m \u001B[0mrf\u001B[0m\u001B[1;33m.\u001B[0m\u001B[0mtuned_models\u001B[0m\u001B[1;33m[\u001B[0m\u001B[1;36m0\u001B[0m\u001B[1;33m]\u001B[0m\u001B[1;33m.\u001B[0m\u001B[0mbest_estimator_\u001B[0m\u001B[1;33m.\u001B[0m\u001B[0mscore\u001B[0m\u001B[1;33m(\u001B[0m\u001B[1;33m)\u001B[0m\u001B[1;33m\u001B[0m\u001B[1;33m\u001B[0m\u001B[0m\n\u001B[0m",
      "\u001B[1;31mTypeError\u001B[0m: score() missing 2 required positional arguments: 'X' and 'y'"
     ]
    }
   ],
   "source": [
    "rf.tuned_models[0].best_estimator_.score()"
   ],
   "metadata": {
    "collapsed": false,
    "pycharm": {
     "name": "#%%\n"
    }
   }
  },
  {
   "cell_type": "code",
   "execution_count": 4,
   "outputs": [],
   "source": [
    "class preprocessing_elliptic:\n",
    "    def __init__(self,\n",
    "                 classes_path=r\"data/elliptic_txs_classes.csv\",\n",
    "                 edgelist_path=r\"data/elliptic_txs_edgelist.csv\",\n",
    "                 features_path=r\"data/elliptic_txs_features.csv\",\n",
    "                 printable=False):\n",
    "        if printable:\n",
    "            print(\"Loading Elliptic Dataset\")\n",
    "        df_classes = pd.read_csv(classes_path)\n",
    "        df_features = pd.read_csv(features_path, header=None)\n",
    "        self.df_nodes = df_classes.merge(df_features, left_on=\"txId\", right_on=0)\n",
    "        self.df_nodes[\"class\"] = self.df_nodes[\"class\"].replace({\"unknown\": 3}).astype(\"int64\")\n",
    "        self.df_nodes[\"label\"] = \"node\"\n",
    "        self.df_edges = pd.read_csv(edgelist_path)\n",
    "        self.df_edges[\"type\"] = \"transaction\"\n",
    "\n",
    "    def export_neo4j(self, export_path=r\"export/\"):\n",
    "        if not os.path.isdir(export_path):\n",
    "            os.mkdir(export_path)\n",
    "\n",
    "        # Save nodes and edges prepared for Neo4j import\n",
    "        self.df_nodes.to_csv(export_path+\"nodes_neo4j.csv\", header=False, index=False)\n",
    "        self.df_edges.to_csv(export_path+\"edges_neo4j.csv\", header=False, index=False)\n",
    "\n",
    "        # Save headers for nodes and edges dataframes prepared for Neo4j import\n",
    "        feature_types = self.df_nodes.dtypes.replace({\"int64\":\"int\", \"float64\": \"float\", \"object\": \"string\"}).tolist()\n",
    "        indices = self.df_nodes.dtypes.index\n",
    "        feature_header = [str(x)+\":\"+y for x,y in zip(indices, feature_types)]\n",
    "        feature_header[0] = \"id:ID\"\n",
    "        feature_header[-1] = \":LABEL\"\n",
    "        np.savetxt(export_path+\"nodes_header.csv\", (feature_header, ), delimiter=\",\", fmt=\"% s\")\n",
    "\n",
    "        edges_header = self.df_edges.columns.tolist()\n",
    "        edges_header = [str(x)+y for x,y in zip(edges_header, [\":START_ID\", \":END_ID\", \":TYPE\"])]\n",
    "        np.savetxt(export_path+\"edges_header.csv\", (edges_header, ), delimiter=\",\", fmt=\"% s\")\n",
    "\n",
    "        return 0\n",
    "\n"
   ],
   "metadata": {
    "collapsed": false,
    "pycharm": {
     "name": "#%%\n"
    }
   }
  },
  {
   "cell_type": "code",
   "execution_count": 5,
   "outputs": [
    {
     "name": "stdout",
     "output_type": "stream",
     "text": [
      "Loading Elliptic Dataset\n"
     ]
    }
   ],
   "source": [
    "prel = preprocessing_elliptic(printable=True)"
   ],
   "metadata": {
    "collapsed": false,
    "pycharm": {
     "name": "#%%\n"
    }
   }
  },
  {
   "cell_type": "code",
   "execution_count": 103,
   "outputs": [
    {
     "data": {
      "text/plain": "0"
     },
     "execution_count": 103,
     "metadata": {},
     "output_type": "execute_result"
    }
   ],
   "source": [
    "# prel.export_neo4j()"
   ],
   "metadata": {
    "collapsed": false,
    "pycharm": {
     "name": "#%%\n"
    }
   }
  },
  {
   "cell_type": "code",
   "execution_count": 1,
   "outputs": [],
   "source": [
    "from graphdatascience import GraphDataScience"
   ],
   "metadata": {
    "collapsed": false,
    "pycharm": {
     "name": "#%%\n"
    }
   }
  },
  {
   "cell_type": "code",
   "execution_count": 6,
   "outputs": [],
   "source": [
    "class neo4j_con:\n",
    "    def __init__(self, uri=\"bolt://localhost:7687\", db=\"neo4j\", password=\"password\",\n",
    "                 graph_name=\"elliptic\", node_label=\"node\", rel_type=\"transaction\"):\n",
    "        self.gds = GraphDataScience(uri, auth=(db, password))\n",
    "        self.graph_name = graph_name\n",
    "        self.node_label = node_label\n",
    "        self.rel_type = rel_type\n",
    "\n",
    "    def create_graph(self):\n",
    "        try:\n",
    "            self.gds.run_cypher(\n",
    "                f\"\"\"\n",
    "                CALL gds.graph.project(\n",
    "                   '{self.graph_name}',\n",
    "                   '{self.node_label}',\n",
    "                   '{self.rel_type}'\n",
    "                )\n",
    "                \"\"\"\n",
    "            )\n",
    "            print(\"Graph succesfully created\")\n",
    "        except:\n",
    "            print(\"Graph already exists\")\n",
    "\n",
    "    def run(self, query=\"\"):\n",
    "        return self.gds.run_cypher(query)\n"
   ],
   "metadata": {
    "collapsed": false,
    "pycharm": {
     "name": "#%%\n"
    }
   }
  },
  {
   "cell_type": "code",
   "execution_count": 73,
   "outputs": [],
   "source": [
    "# con.gds."
   ],
   "metadata": {
    "collapsed": false,
    "pycharm": {
     "name": "#%%\n"
    }
   }
  },
  {
   "cell_type": "code",
   "execution_count": 9,
   "outputs": [
    {
     "name": "stdout",
     "output_type": "stream",
     "text": [
      "Graph succesfully created\n"
     ]
    }
   ],
   "source": [
    "con = neo4j_con()\n",
    "con.create_graph()"
   ],
   "metadata": {
    "collapsed": false,
    "pycharm": {
     "name": "#%%\n"
    }
   }
  },
  {
   "cell_type": "code",
   "execution_count": 23,
   "outputs": [],
   "source": [
    "# G = con.gds.graph.get(\"elliptic\")\n",
    "# G.node_count()\n",
    "# G.drop()"
   ],
   "metadata": {
    "collapsed": false,
    "pycharm": {
     "name": "#%%\n"
    }
   }
  },
  {
   "cell_type": "code",
   "execution_count": 28,
   "outputs": [],
   "source": [
    "degree = con.run(\n",
    "    \"\"\"\n",
    "    call gds.degree.stream(\"elliptic\")\n",
    "    yield nodeId, score\n",
    "    return toInteger(gds.util.asNode(nodeId).id) as id, score\n",
    "    order by score desc, id asc\n",
    "    \"\"\"\n",
    ")"
   ],
   "metadata": {
    "collapsed": false,
    "pycharm": {
     "name": "#%%\n"
    }
   }
  },
  {
   "cell_type": "code",
   "execution_count": 29,
   "outputs": [
    {
     "data": {
      "text/plain": "id         int64\nscore    float64\ndtype: object"
     },
     "execution_count": 29,
     "metadata": {},
     "output_type": "execute_result"
    }
   ],
   "source": [
    "degree.dtypes"
   ],
   "metadata": {
    "collapsed": false,
    "pycharm": {
     "name": "#%%\n"
    }
   }
  },
  {
   "cell_type": "code",
   "execution_count": 30,
   "outputs": [
    {
     "data": {
      "text/plain": "               id  score       txId  class          0   1         2  \\\n0         2984918  472.0    2984918      2    2984918  22  1.684981   \n1           89273  288.0      89273      2      89273   1  5.202107   \n2          102570  122.0     102570      3     102570  36  0.381067   \n3            3181  112.0       3181      2       3181  34  1.305212   \n4            7952   99.0       7952      2       7952  48  0.967162   \n...           ...    ...        ...    ...        ...  ..       ...   \n203764  401339607    0.0  401339607      3  401339607  12 -0.165038   \n203765  403137299    0.0  403137299      3  403137299  28 -0.172669   \n203766  403234712    0.0  403234712      3  403234712  28 -0.172669   \n203767  403234715    0.0  403234715      3  403234715  28 -0.172669   \n203768  403235564    0.0  403235564      3  403235564  28 -0.172669   \n\n                3         4         5  ...       158       159       160  \\\n0       -0.210553 -1.756361 -0.121970  ...  1.166103  0.014801  0.080531   \n1       -0.210553 -1.756361 -0.121970  ...  0.982479  0.118347  0.091066   \n2       23.514872  2.128587 -0.046932  ... -0.075586  0.309574  0.635122   \n3       -0.210553 -1.756361 -0.121970  ...  1.590664  0.059948  0.113967   \n4       -0.210553 -1.756361 -0.121970  ...  0.850443  0.321431  0.268810   \n...           ...       ...       ...  ...       ...       ...       ...   \n203764  -0.184668 -1.201369  0.028105  ... -0.588384  0.241128  0.241406   \n203765  -0.158783 -1.201369 -0.121970  ... -0.626229  0.241128  0.241406   \n203766  -0.158783 -1.201369 -0.121970  ... -0.626229  0.241128  0.241406   \n203767  -0.158783 -1.201369 -0.121970  ... -0.626229  0.241128  0.241406   \n203768  -0.158783 -1.201369 -0.121970  ... -0.626229  0.241128  0.241406   \n\n             161        162       163       164       165       166  label  \n0      -0.098889   0.066306 -0.092140 -0.120107 -0.184471 -0.253774   node  \n1      -0.098889   0.854508 -0.066727 -0.150067 -0.080760 -0.070977   node  \n2      -0.098889  19.117743  1.948685 -0.026396 -0.039786 -0.795452   node  \n3      -0.098889   1.969527  0.037532 -0.131010  0.006994  0.017772   node  \n4      -0.098889   1.162100  0.485146  0.303509 -0.553520 -0.578865   node  \n...          ...        ...       ...       ...       ...       ...    ...  \n203764 -0.098889  -0.106715 -0.131155 -0.183671 -0.120613 -0.119792   node  \n203765 -0.216057  -0.125939 -0.131155 -0.269818 -0.120613 -0.119792   node  \n203766 -0.216057  -0.125939 -0.131155 -0.269818 -0.120613 -0.119792   node  \n203767 -0.216057  -0.125939 -0.131155 -0.269818 -0.120613 -0.119792   node  \n203768 -0.216057  -0.125939 -0.131155 -0.269818 -0.120613 -0.119792   node  \n\n[203769 rows x 172 columns]",
      "text/html": "<div>\n<style scoped>\n    .dataframe tbody tr th:only-of-type {\n        vertical-align: middle;\n    }\n\n    .dataframe tbody tr th {\n        vertical-align: top;\n    }\n\n    .dataframe thead th {\n        text-align: right;\n    }\n</style>\n<table border=\"1\" class=\"dataframe\">\n  <thead>\n    <tr style=\"text-align: right;\">\n      <th></th>\n      <th>id</th>\n      <th>score</th>\n      <th>txId</th>\n      <th>class</th>\n      <th>0</th>\n      <th>1</th>\n      <th>2</th>\n      <th>3</th>\n      <th>4</th>\n      <th>5</th>\n      <th>...</th>\n      <th>158</th>\n      <th>159</th>\n      <th>160</th>\n      <th>161</th>\n      <th>162</th>\n      <th>163</th>\n      <th>164</th>\n      <th>165</th>\n      <th>166</th>\n      <th>label</th>\n    </tr>\n  </thead>\n  <tbody>\n    <tr>\n      <th>0</th>\n      <td>2984918</td>\n      <td>472.0</td>\n      <td>2984918</td>\n      <td>2</td>\n      <td>2984918</td>\n      <td>22</td>\n      <td>1.684981</td>\n      <td>-0.210553</td>\n      <td>-1.756361</td>\n      <td>-0.121970</td>\n      <td>...</td>\n      <td>1.166103</td>\n      <td>0.014801</td>\n      <td>0.080531</td>\n      <td>-0.098889</td>\n      <td>0.066306</td>\n      <td>-0.092140</td>\n      <td>-0.120107</td>\n      <td>-0.184471</td>\n      <td>-0.253774</td>\n      <td>node</td>\n    </tr>\n    <tr>\n      <th>1</th>\n      <td>89273</td>\n      <td>288.0</td>\n      <td>89273</td>\n      <td>2</td>\n      <td>89273</td>\n      <td>1</td>\n      <td>5.202107</td>\n      <td>-0.210553</td>\n      <td>-1.756361</td>\n      <td>-0.121970</td>\n      <td>...</td>\n      <td>0.982479</td>\n      <td>0.118347</td>\n      <td>0.091066</td>\n      <td>-0.098889</td>\n      <td>0.854508</td>\n      <td>-0.066727</td>\n      <td>-0.150067</td>\n      <td>-0.080760</td>\n      <td>-0.070977</td>\n      <td>node</td>\n    </tr>\n    <tr>\n      <th>2</th>\n      <td>102570</td>\n      <td>122.0</td>\n      <td>102570</td>\n      <td>3</td>\n      <td>102570</td>\n      <td>36</td>\n      <td>0.381067</td>\n      <td>23.514872</td>\n      <td>2.128587</td>\n      <td>-0.046932</td>\n      <td>...</td>\n      <td>-0.075586</td>\n      <td>0.309574</td>\n      <td>0.635122</td>\n      <td>-0.098889</td>\n      <td>19.117743</td>\n      <td>1.948685</td>\n      <td>-0.026396</td>\n      <td>-0.039786</td>\n      <td>-0.795452</td>\n      <td>node</td>\n    </tr>\n    <tr>\n      <th>3</th>\n      <td>3181</td>\n      <td>112.0</td>\n      <td>3181</td>\n      <td>2</td>\n      <td>3181</td>\n      <td>34</td>\n      <td>1.305212</td>\n      <td>-0.210553</td>\n      <td>-1.756361</td>\n      <td>-0.121970</td>\n      <td>...</td>\n      <td>1.590664</td>\n      <td>0.059948</td>\n      <td>0.113967</td>\n      <td>-0.098889</td>\n      <td>1.969527</td>\n      <td>0.037532</td>\n      <td>-0.131010</td>\n      <td>0.006994</td>\n      <td>0.017772</td>\n      <td>node</td>\n    </tr>\n    <tr>\n      <th>4</th>\n      <td>7952</td>\n      <td>99.0</td>\n      <td>7952</td>\n      <td>2</td>\n      <td>7952</td>\n      <td>48</td>\n      <td>0.967162</td>\n      <td>-0.210553</td>\n      <td>-1.756361</td>\n      <td>-0.121970</td>\n      <td>...</td>\n      <td>0.850443</td>\n      <td>0.321431</td>\n      <td>0.268810</td>\n      <td>-0.098889</td>\n      <td>1.162100</td>\n      <td>0.485146</td>\n      <td>0.303509</td>\n      <td>-0.553520</td>\n      <td>-0.578865</td>\n      <td>node</td>\n    </tr>\n    <tr>\n      <th>...</th>\n      <td>...</td>\n      <td>...</td>\n      <td>...</td>\n      <td>...</td>\n      <td>...</td>\n      <td>...</td>\n      <td>...</td>\n      <td>...</td>\n      <td>...</td>\n      <td>...</td>\n      <td>...</td>\n      <td>...</td>\n      <td>...</td>\n      <td>...</td>\n      <td>...</td>\n      <td>...</td>\n      <td>...</td>\n      <td>...</td>\n      <td>...</td>\n      <td>...</td>\n      <td>...</td>\n    </tr>\n    <tr>\n      <th>203764</th>\n      <td>401339607</td>\n      <td>0.0</td>\n      <td>401339607</td>\n      <td>3</td>\n      <td>401339607</td>\n      <td>12</td>\n      <td>-0.165038</td>\n      <td>-0.184668</td>\n      <td>-1.201369</td>\n      <td>0.028105</td>\n      <td>...</td>\n      <td>-0.588384</td>\n      <td>0.241128</td>\n      <td>0.241406</td>\n      <td>-0.098889</td>\n      <td>-0.106715</td>\n      <td>-0.131155</td>\n      <td>-0.183671</td>\n      <td>-0.120613</td>\n      <td>-0.119792</td>\n      <td>node</td>\n    </tr>\n    <tr>\n      <th>203765</th>\n      <td>403137299</td>\n      <td>0.0</td>\n      <td>403137299</td>\n      <td>3</td>\n      <td>403137299</td>\n      <td>28</td>\n      <td>-0.172669</td>\n      <td>-0.158783</td>\n      <td>-1.201369</td>\n      <td>-0.121970</td>\n      <td>...</td>\n      <td>-0.626229</td>\n      <td>0.241128</td>\n      <td>0.241406</td>\n      <td>-0.216057</td>\n      <td>-0.125939</td>\n      <td>-0.131155</td>\n      <td>-0.269818</td>\n      <td>-0.120613</td>\n      <td>-0.119792</td>\n      <td>node</td>\n    </tr>\n    <tr>\n      <th>203766</th>\n      <td>403234712</td>\n      <td>0.0</td>\n      <td>403234712</td>\n      <td>3</td>\n      <td>403234712</td>\n      <td>28</td>\n      <td>-0.172669</td>\n      <td>-0.158783</td>\n      <td>-1.201369</td>\n      <td>-0.121970</td>\n      <td>...</td>\n      <td>-0.626229</td>\n      <td>0.241128</td>\n      <td>0.241406</td>\n      <td>-0.216057</td>\n      <td>-0.125939</td>\n      <td>-0.131155</td>\n      <td>-0.269818</td>\n      <td>-0.120613</td>\n      <td>-0.119792</td>\n      <td>node</td>\n    </tr>\n    <tr>\n      <th>203767</th>\n      <td>403234715</td>\n      <td>0.0</td>\n      <td>403234715</td>\n      <td>3</td>\n      <td>403234715</td>\n      <td>28</td>\n      <td>-0.172669</td>\n      <td>-0.158783</td>\n      <td>-1.201369</td>\n      <td>-0.121970</td>\n      <td>...</td>\n      <td>-0.626229</td>\n      <td>0.241128</td>\n      <td>0.241406</td>\n      <td>-0.216057</td>\n      <td>-0.125939</td>\n      <td>-0.131155</td>\n      <td>-0.269818</td>\n      <td>-0.120613</td>\n      <td>-0.119792</td>\n      <td>node</td>\n    </tr>\n    <tr>\n      <th>203768</th>\n      <td>403235564</td>\n      <td>0.0</td>\n      <td>403235564</td>\n      <td>3</td>\n      <td>403235564</td>\n      <td>28</td>\n      <td>-0.172669</td>\n      <td>-0.158783</td>\n      <td>-1.201369</td>\n      <td>-0.121970</td>\n      <td>...</td>\n      <td>-0.626229</td>\n      <td>0.241128</td>\n      <td>0.241406</td>\n      <td>-0.216057</td>\n      <td>-0.125939</td>\n      <td>-0.131155</td>\n      <td>-0.269818</td>\n      <td>-0.120613</td>\n      <td>-0.119792</td>\n      <td>node</td>\n    </tr>\n  </tbody>\n</table>\n<p>203769 rows × 172 columns</p>\n</div>"
     },
     "execution_count": 30,
     "metadata": {},
     "output_type": "execute_result"
    }
   ],
   "source": [
    "# prel.df_nodes\n",
    "degree.merge(prel.df_nodes, left_on=\"id\", right_on=\"txId\")\n",
    "# degree.id"
   ],
   "metadata": {
    "collapsed": false,
    "pycharm": {
     "name": "#%%\n"
    }
   }
  },
  {
   "cell_type": "code",
   "execution_count": null,
   "outputs": [],
   "source": [],
   "metadata": {
    "collapsed": false,
    "pycharm": {
     "name": "#%%\n"
    }
   }
  }
 ],
 "metadata": {
  "kernelspec": {
   "display_name": "Python 3",
   "language": "python",
   "name": "python3"
  },
  "language_info": {
   "codemirror_mode": {
    "name": "ipython",
    "version": 2
   },
   "file_extension": ".py",
   "mimetype": "text/x-python",
   "name": "python",
   "nbconvert_exporter": "python",
   "pygments_lexer": "ipython2",
   "version": "2.7.6"
  }
 },
 "nbformat": 4,
 "nbformat_minor": 0
}